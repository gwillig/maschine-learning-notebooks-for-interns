{
  "nbformat": 4,
  "nbformat_minor": 0,
  "metadata": {
    "colab": {
      "name": "Untitled3.ipynb",
      "provenance": [],
      "authorship_tag": "ABX9TyNWGH+xTs0kp16tIxNi+9tL",
      "include_colab_link": true
    },
    "kernelspec": {
      "name": "python3",
      "display_name": "Python 3"
    }
  },
  "cells": [
    {
      "cell_type": "markdown",
      "metadata": {
        "id": "view-in-github",
        "colab_type": "text"
      },
      "source": [
        "<a href=\"https://colab.research.google.com/github/gwillig/maschine-learning-notebooks-for-interns/blob/master/example.ipynb\" target=\"_parent\"><img src=\"https://colab.research.google.com/assets/colab-badge.svg\" alt=\"Open In Colab\"/></a>"
      ]
    },
    {
      "cell_type": "code",
      "metadata": {
        "id": "ZybI3F6yiLt9",
        "colab_type": "code",
        "colab": {
          "base_uri": "https://localhost:8080/",
          "height": 34
        },
        "outputId": "501e18e0-1d6d-4142-da64-baf0ea65f0a4"
      },
      "source": [
        "from sklearn.datasets import load_iris\n",
        "from sklearn.model_selection import train_test_split\n",
        "from sklearn.naive_bayes import GaussianNB\n",
        "import pandas as pd \n",
        "X, y = load_iris(return_X_y=True)\n",
        "X_train, X_test, y_train, y_test = train_test_split(X, y, test_size=0.5, random_state=0)\n",
        "gnb = GaussianNB()\n",
        "traing_model = gnb.fit(X_train, y_train)\n",
        "y_pred=gnb.fit(X_train, y_train).predict(X_test)\n",
        "print(\"Number of mislabeled points out of a total %d points : %d\"\n",
        "      % (X_test.shape[0], (y_test != y_pred).sum()))\n"
      ],
      "execution_count": null,
      "outputs": [
        {
          "output_type": "stream",
          "text": [
            "Number of mislabeled points out of a total 75 points : 4\n"
          ],
          "name": "stdout"
        }
      ]
    },
    {
      "cell_type": "code",
      "metadata": {
        "id": "-2YYnExDiVRA",
        "colab_type": "code",
        "colab": {
          "base_uri": "https://localhost:8080/",
          "height": 87
        },
        "outputId": "6f9f686f-1d30-41ab-fb93-ed604391e350"
      },
      "source": [
        "traing_model.predict(ca)"
      ],
      "execution_count": null,
      "outputs": [
        {
          "output_type": "execute_result",
          "data": {
            "text/plain": [
              "array([2, 1, 0, 2, 0, 2, 0, 1, 1, 1, 1, 1, 1, 1, 1, 0, 1, 1, 0, 0, 2, 1,\n",
              "       0, 0, 2, 0, 0, 1, 1, 0, 2, 1, 0, 2, 2, 1, 0, 1, 1, 1, 2, 0, 2, 0,\n",
              "       0, 1, 2, 2, 1, 2, 1, 2, 1, 1, 2, 1, 1, 2, 1, 2, 1, 0, 2, 1, 1, 1,\n",
              "       1, 2, 0, 0, 2, 1, 0, 0, 1])"
            ]
          },
          "metadata": {
            "tags": []
          },
          "execution_count": 5
        }
      ]
    },
    {
      "cell_type": "code",
      "metadata": {
        "id": "LlMyqdfvirMN",
        "colab_type": "code",
        "colab": {}
      },
      "source": [
        "data={\"Type\":[\"Banana\",\"Orange\",\"Other\"],\"Long\":[400,0,100],\"Not Long\":[100,300,100]\n",
        " ,\"Sweet\":[350,150,150],\"Not Sweet\":[150,150,50],\"Yellow\":[450,300,50],\"Not Yellow\":[50,0,150]}\n",
        "\t\t\t\t\t\n",
        "\n",
        "df = pd.DataFrame(data)\n",
        "df="
      ],
      "execution_count": null,
      "outputs": []
    },
    {
      "cell_type": "code",
      "metadata": {
        "id": "O5w4sf5vXBLR",
        "colab_type": "code",
        "colab": {
          "base_uri": "https://localhost:8080/",
          "height": 50
        },
        "outputId": "2061ec81-2545-4147-c7b5-43eac2bbe2c0"
      },
      "source": [
        "import numpy as np \n",
        "\n",
        "s1 = np.random.normal(40, 26, 10)\n",
        "s2 = np.random.normal(40, 26, 35)\n",
        "s3 = np.random.normal(40, 26, 62)\n",
        "\n",
        "import scipy.stats\n",
        "s1 =  scipy.stats.norm(  40, 26).pdf(10)*100\n",
        "s2 =  scipy.stats.norm(40, 26).pdf(35)*100\n",
        "s3 =  scipy.stats.norm(40, 26).pdf(62)*100\n",
        "s1 =  scipy.stats.norm.sf(10,40,26**0.5)*100\n",
        "s2 = scipy.stats.norm.sf(35,40,26**0.5)*100\n",
        "s3 =  scipy.stats.norm.sf(62,40,26**0.5)*100\n",
        "\n",
        "print( round(s1,0),round(s2,0),round(s3,0))\n",
        "\n",
        "s1 = - math.log(scipy.stats.norm.sf(10,27,314**0.5))*100\n",
        "s2 =-math.log( scipy.stats.norm.sf(35,27,314**0.5))*100\n",
        "s3 = -math.log( scipy.stats.norm.sf(62,27,314**0.5))*100\n",
        "print( round(s1,0),round(s2,0),round(s3,0))\n",
        "\n",
        "#equal to let's say 125, you'd use SF Survival Function \n"
      ],
      "execution_count": null,
      "outputs": [
        {
          "output_type": "stream",
          "text": [
            "100.0 84.0 0.0\n",
            "18.0 112.0 372.0\n"
          ],
          "name": "stdout"
        }
      ]
    },
    {
      "cell_type": "code",
      "metadata": {
        "id": "irPADMS_kKbq",
        "colab_type": "code",
        "colab": {
          "base_uri": "https://localhost:8080/",
          "height": 50
        },
        "outputId": "451804d5-65c5-4243-e2c0-dc402d797766"
      },
      "source": [
        "si=26**0.5\n",
        "mu=40\n",
        " \n",
        "x1=10\n",
        "x2=4\n",
        "x3=62\n",
        "s1 =  scipy.stats.norm(mu, si).pdf(x1)*100\n",
        "s2 =  scipy.stats.norm(mu, si).pdf(x2)*100\n",
        "s3 =  scipy.stats.norm(mu, si).pdf(x3)*100\n",
        "print( round(s1,2),round(s2,2),round(s3,2))\n",
        " \n",
        "si=314**0.5\n",
        " \n",
        "mu=27\n",
        " \n",
        "s1 =  scipy.stats.norm(mu, si).pdf(x1)*100\n",
        "s2 =  scipy.stats.norm(mu, si).pdf(x2)*100\n",
        "s3 =  scipy.stats.norm(mu, si).pdf(x3)*100\n",
        "print( round(s1,2),round(s2,2),round(s3,2))"
      ],
      "execution_count": null,
      "outputs": [
        {
          "output_type": "stream",
          "text": [
            "0.0 4.84 0.0\n",
            "1.42 2.03 0.32\n"
          ],
          "name": "stdout"
        }
      ]
    },
    {
      "cell_type": "code",
      "metadata": {
        "id": "t5GKRHBKmKzL",
        "colab_type": "code",
        "colab": {
          "base_uri": "https://localhost:8080/",
          "height": 394
        },
        "outputId": "a52ec3de-3713-4d2b-a276-a93597dc7a35"
      },
      "source": [
        " \n",
        "import matplotlib.pyplot as plt\n",
        "import numpy as np\n",
        "import scipy.stats as stats\n",
        "import math\n",
        "import seaborn as sns\n",
        "mu = 4\n",
        "variance = 4**0.5\n",
        "sigma = math.sqrt(variance)\n",
        "### Create the Probability density function\n",
        "x = np.linspace(mu - 5*sigma, mu + 5*sigma, 100)\n",
        "ax = sns.lineplot(x, stats.norm.pdf(x, mu, sigma))\n",
        "# ax.axvline(35,c=\"b\", linewidth = 3) #add a line to the graph\n",
        "part = np.arange(,40,1)\n",
        "ax.fill_between(part,stats.norm.pdf(part, mu, sigma),)\n",
        "plt.show()\n",
        " \n",
        "### Create the cumulative distribution function\n",
        "ax = sns.lineplot(x, stats.norm.cdf(x, mu, sigma))\n",
        " \n",
        "ax.fill_between(x, stats.norm.cdf(x, mu, sigma))"
      ],
      "execution_count": null,
      "outputs": [
        {
          "output_type": "stream",
          "text": [
            "/usr/local/lib/python3.6/dist-packages/statsmodels/tools/_testing.py:19: FutureWarning: pandas.util.testing is deprecated. Use the functions in the public API at pandas.testing instead.\n",
            "  import pandas.util.testing as tm\n"
          ],
          "name": "stderr"
        },
        {
          "output_type": "display_data",
          "data": {
            "image/png": "[encoded data removed]",
            "text/plain": [
              "<Figure size 432x288 with 1 Axes>"
            ]
          },
          "metadata": {
            "tags": [],
            "needs_background": "light"
          }
        },
        {
          "output_type": "execute_result",
          "data": {
            "text/plain": [
              "<matplotlib.collections.PolyCollection at 0x7f16b0e50da0>"
            ]
          },
          "metadata": {
            "tags": []
          },
          "execution_count": 1
        },
        {
          "output_type": "display_data",
          "data": {
            "image/png": "[encoded data removed]",
            "text/plain": [
              "<Figure size 432x288 with 1 Axes>"
            ]
          },
          "metadata": {
            "tags": [],
            "needs_background": "light"
          }
        }
      ]
    },
    {
      "cell_type": "code",
      "metadata": {
        "id": "dw7wIDzE2Lbi",
        "colab_type": "code",
        "colab": {
          "base_uri": "https://localhost:8080/",
          "height": 52
        },
        "outputId": "16ee48ff-5ac0-469b-ce57-8e6499299f9f"
      },
      "source": [
        "from scipy import stats\n",
        "mu=150\n",
        "si=(1000*0.15*0.85)**0.5\n",
        "x1=170\n",
        "x2=20\n",
        "pro = stats.norm.cdf(x1, loc=mu, scale=si) -stats.norm.cdf(x2, loc=mu, scale=si) \n",
        "print(pro*100)\n",
        "print(stats.norm.cdf(x1, loc=mu, scale=si))"
      ],
      "execution_count": null,
      "outputs": [
        {
          "output_type": "stream",
          "text": [
            "96.17387497624705\n",
            "0.9617387497624704\n"
          ],
          "name": "stdout"
        }
      ]
    },
    {
      "cell_type": "code",
      "metadata": {
        "id": "SNh-6utQyD7Z",
        "colab_type": "code",
        "colab": {
          "base_uri": "https://localhost:8080/",
          "height": 34
        },
        "outputId": "331762d2-9d55-41ce-9843-85e21e3f27cc"
      },
      "source": [
        "len(data[\"treatment\"])"
      ],
      "execution_count": null,
      "outputs": [
        {
          "output_type": "execute_result",
          "data": {
            "text/plain": [
              "4"
            ]
          },
          "metadata": {
            "tags": []
          },
          "execution_count": 12
        }
      ]
    },
    {
      "cell_type": "code",
      "metadata": {
        "id": "BSePOtpexi-Z",
        "colab_type": "code",
        "colab": {}
      },
      "source": [
        "data_raw={2012:3,2013:0,2014:2,2015:2,2016:0,2017:0,2018:1,2019:3}\n",
        "\n",
        "data ={\"year\":[2012,2013,2014,2015,2016,2017,2018,2019],\"treatment\":[3,0,2,2,0,0,1,3]}\n",
        "data_raw={2012:3,2013:0,2014:2,2015:2,2016:0,2017:0,2018:1,2019:3}\n",
        "\n",
        "data ={\"year\":[2018,2019],\"treatment\":[1,3]}"
      ],
      "execution_count": null,
      "outputs": []
    },
    {
      "cell_type": "code",
      "metadata": {
        "id": "LosreyGOyf6n",
        "colab_type": "code",
        "colab": {}
      },
      "source": [
        ""
      ],
      "execution_count": null,
      "outputs": []
    },
    {
      "cell_type": "code",
      "metadata": {
        "id": "CSHjFub7qpFQ",
        "colab_type": "code",
        "colab": {
          "base_uri": "https://localhost:8080/",
          "height": 423
        },
        "outputId": "18f2470c-53c2-45ae-bffb-91d44b4a4898"
      },
      "source": [
        "'#Zahnfüllungen von S'\n",
        "import pandas as pd\n",
        "import numpy as np\n",
        "import seaborn as sns\n",
        "from scipy import stats\n",
        "import matplotlib.pyplot as plt\n",
        "\n",
        "df = pd.DataFrame(data)\n",
        "df.describe()\n",
        "mu = df.describe().loc[\"mean\",\"treatment\"]\n",
        "sigma = df.describe().loc[\"std\",\"treatment\"]\n",
        "### Create the Probability density function\n",
        "x = np.linspace(mu - 5*sigma, mu + 5*sigma, 20)\n",
        "ax = sns.lineplot(x, stats.norm.pdf(x, mu, sigma))\n",
        "# ax.axvline(35,c=\"b\", linewidth = 3) #add a line to the graph\n",
        "part = np.arange(35,40,1)\n",
        "ax.fill_between(part,stats.norm.pdf(part, mu, sigma),)\n",
        "plt.show()\n",
        "print(df.describe())"
      ],
      "execution_count": null,
      "outputs": [
        {
          "output_type": "display_data",
          "data": {
            "image/png": "[encoded data removed]",
            "text/plain": [
              "<Figure size 432x288 with 1 Axes>"
            ]
          },
          "metadata": {
            "tags": [],
            "needs_background": "light"
          }
        },
        {
          "output_type": "stream",
          "text": [
            "              year  treatment\n",
            "count     2.000000   2.000000\n",
            "mean   2018.500000   2.000000\n",
            "std       0.707107   1.414214\n",
            "min    2018.000000   1.000000\n",
            "25%    2018.250000   1.500000\n",
            "50%    2018.500000   2.000000\n",
            "75%    2018.750000   2.500000\n",
            "max    2019.000000   3.000000\n"
          ],
          "name": "stdout"
        }
      ]
    },
    {
      "cell_type": "code",
      "metadata": {
        "id": "HlT7w2KqmXOa",
        "colab_type": "code",
        "colab": {
          "base_uri": "https://localhost:8080/",
          "height": 34
        },
        "outputId": "e0c50151-355f-4304-f306-a2a0b39da5a9"
      },
      "source": [
        "\n",
        "\n"
      ],
      "execution_count": null,
      "outputs": [
        {
          "output_type": "execute_result",
          "data": {
            "text/plain": [
              "1591201365.731779"
            ]
          },
          "metadata": {
            "tags": []
          },
          "execution_count": 113
        }
      ]
    },
    {
      "cell_type": "code",
      "metadata": {
        "id": "IS5CzdHzby-d",
        "colab_type": "code",
        "colab": {
          "base_uri": "https://localhost:8080/",
          "height": 52
        },
        "outputId": "104a1573-212a-47f3-fad8-329288480d08"
      },
      "source": [
        "print(round(0.007885611221328045*100,2))\n",
        "print(round(0.0012686561405405512*100,2))"
      ],
      "execution_count": null,
      "outputs": [
        {
          "output_type": "stream",
          "text": [
            "0.79\n",
            "0.13\n"
          ],
          "name": "stdout"
        }
      ]
    },
    {
      "cell_type": "code",
      "metadata": {
        "id": "pm4SR43-i61-",
        "colab_type": "code",
        "colab": {}
      },
      "source": [
        "train_feature_keys = list(df.keys())\n",
        "train_feature_keys.remove(\"Type\")\n",
        "train_label_y_key =\"Type\"\n",
        "x_train = df[train_feature_keys]\n",
        "y_train = df[train_label_y_key]\n",
        "traing_model = gnb.fit(x_train, y_train)"
      ],
      "execution_count": null,
      "outputs": []
    },
    {
      "cell_type": "code",
      "metadata": {
        "colab_type": "code",
        "id": "7E4T0XvHirdf",
        "colab": {
          "base_uri": "https://localhost:8080/",
          "height": 141
        },
        "outputId": "df8ad51a-1899-491e-8afe-173e7911db57"
      },
      "source": [
        "train_feature_keys = list(df.keys())\n",
        "\n",
        "df[train_feature_keys]\n"
      ],
      "execution_count": null,
      "outputs": [
        {
          "output_type": "execute_result",
          "data": {
            "text/html": [
              "<div>\n",
              "<style scoped>\n",
              "    .dataframe tbody tr th:only-of-type {\n",
              "        vertical-align: middle;\n",
              "    }\n",
              "\n",
              "    .dataframe tbody tr th {\n",
              "        vertical-align: top;\n",
              "    }\n",
              "\n",
              "    .dataframe thead th {\n",
              "        text-align: right;\n",
              "    }\n",
              "</style>\n",
              "<table border=\"1\" class=\"dataframe\">\n",
              "  <thead>\n",
              "    <tr style=\"text-align: right;\">\n",
              "      <th></th>\n",
              "      <th>Type</th>\n",
              "      <th>Long</th>\n",
              "      <th>Not Long</th>\n",
              "      <th>Sweet</th>\n",
              "      <th>Not Sweet</th>\n",
              "      <th>Yellow</th>\n",
              "      <th>Not Yellow</th>\n",
              "    </tr>\n",
              "  </thead>\n",
              "  <tbody>\n",
              "    <tr>\n",
              "      <th>0</th>\n",
              "      <td>Banana</td>\n",
              "      <td>400</td>\n",
              "      <td>100</td>\n",
              "      <td>350</td>\n",
              "      <td>150</td>\n",
              "      <td>450</td>\n",
              "      <td>50</td>\n",
              "    </tr>\n",
              "    <tr>\n",
              "      <th>1</th>\n",
              "      <td>Orange</td>\n",
              "      <td>0</td>\n",
              "      <td>300</td>\n",
              "      <td>150</td>\n",
              "      <td>150</td>\n",
              "      <td>300</td>\n",
              "      <td>0</td>\n",
              "    </tr>\n",
              "    <tr>\n",
              "      <th>2</th>\n",
              "      <td>Other</td>\n",
              "      <td>100</td>\n",
              "      <td>100</td>\n",
              "      <td>150</td>\n",
              "      <td>50</td>\n",
              "      <td>50</td>\n",
              "      <td>150</td>\n",
              "    </tr>\n",
              "  </tbody>\n",
              "</table>\n",
              "</div>"
            ],
            "text/plain": [
              "     Type  Long  Not Long  Sweet  Not Sweet  Yellow  Not Yellow\n",
              "0  Banana   400       100    350        150     450          50\n",
              "1  Orange     0       300    150        150     300           0\n",
              "2   Other   100       100    150         50      50         150"
            ]
          },
          "metadata": {
            "tags": []
          },
          "execution_count": 27
        }
      ]
    },
    {
      "cell_type": "markdown",
      "metadata": {
        "id": "mKZnBIjUCIJU",
        "colab_type": "text"
      },
      "source": [
        "# K-Mean example"
      ]
    },
    {
      "cell_type": "code",
      "metadata": {
        "id": "H-CiLThuCL0j",
        "colab_type": "code",
        "colab": {
          "base_uri": "https://localhost:8080/",
          "height": 591
        },
        "outputId": "ee37727a-cce7-4ad4-9e4f-94fb76b63bbc"
      },
      "source": [
        "from sklearn.cluster import KMeans\n",
        "import numpy as np\n",
        "import pandas as pd \n",
        "from IPython.display import display\n",
        "\n",
        "#1.Step: Define the data\n",
        "X = np.array([[1,4],\n",
        "              [1.50,5],\n",
        "              [1.7,6],\n",
        "              [1.3,3],\n",
        "              [3,6],\n",
        "              [3.5,7],\n",
        "              [3.7,8],\n",
        "              [3.3,5]\n",
        "              ])\n",
        "#2.Step: Display the data\n",
        "df = pd.DataFrame(data=X,columns=[\"x\",\"y\"])\n",
        "kmeans = KMeans(n_clusters=2, random_state=0).fit(X)\n",
        "\n",
        "\n",
        "#kmeans.predict([[0, 0], [12, 3]])\n",
        "\n",
        "display(kmeans.labels_)\n",
        "\n",
        "\n",
        "df[\"labls\"] = \n",
        "display(df)\n",
        "df.plot.scatter(x=\"x\",y=\"y\")\n"
      ],
      "execution_count": 13,
      "outputs": [
        {
          "output_type": "display_data",
          "data": {
            "text/plain": [
              "array([1, 1, 0, 1, 0, 0, 0, 0], dtype=int32)"
            ]
          },
          "metadata": {
            "tags": []
          }
        },
        {
          "output_type": "display_data",
          "data": {
            "text/html": [
              "<div>\n",
              "<style scoped>\n",
              "    .dataframe tbody tr th:only-of-type {\n",
              "        vertical-align: middle;\n",
              "    }\n",
              "\n",
              "    .dataframe tbody tr th {\n",
              "        vertical-align: top;\n",
              "    }\n",
              "\n",
              "    .dataframe thead th {\n",
              "        text-align: right;\n",
              "    }\n",
              "</style>\n",
              "<table border=\"1\" class=\"dataframe\">\n",
              "  <thead>\n",
              "    <tr style=\"text-align: right;\">\n",
              "      <th></th>\n",
              "      <th>x</th>\n",
              "      <th>y</th>\n",
              "    </tr>\n",
              "  </thead>\n",
              "  <tbody>\n",
              "    <tr>\n",
              "      <th>0</th>\n",
              "      <td>1.0</td>\n",
              "      <td>4.0</td>\n",
              "    </tr>\n",
              "    <tr>\n",
              "      <th>1</th>\n",
              "      <td>1.5</td>\n",
              "      <td>5.0</td>\n",
              "    </tr>\n",
              "    <tr>\n",
              "      <th>2</th>\n",
              "      <td>1.7</td>\n",
              "      <td>6.0</td>\n",
              "    </tr>\n",
              "    <tr>\n",
              "      <th>3</th>\n",
              "      <td>1.3</td>\n",
              "      <td>3.0</td>\n",
              "    </tr>\n",
              "    <tr>\n",
              "      <th>4</th>\n",
              "      <td>3.0</td>\n",
              "      <td>6.0</td>\n",
              "    </tr>\n",
              "    <tr>\n",
              "      <th>5</th>\n",
              "      <td>3.5</td>\n",
              "      <td>7.0</td>\n",
              "    </tr>\n",
              "    <tr>\n",
              "      <th>6</th>\n",
              "      <td>3.7</td>\n",
              "      <td>8.0</td>\n",
              "    </tr>\n",
              "    <tr>\n",
              "      <th>7</th>\n",
              "      <td>3.3</td>\n",
              "      <td>5.0</td>\n",
              "    </tr>\n",
              "  </tbody>\n",
              "</table>\n",
              "</div>"
            ],
            "text/plain": [
              "     x    y\n",
              "0  1.0  4.0\n",
              "1  1.5  5.0\n",
              "2  1.7  6.0\n",
              "3  1.3  3.0\n",
              "4  3.0  6.0\n",
              "5  3.5  7.0\n",
              "6  3.7  8.0\n",
              "7  3.3  5.0"
            ]
          },
          "metadata": {
            "tags": []
          }
        },
        {
          "output_type": "execute_result",
          "data": {
            "text/plain": [
              "<matplotlib.axes._subplots.AxesSubplot at 0x7fe0a7c84dd8>"
            ]
          },
          "metadata": {
            "tags": []
          },
          "execution_count": 13
        },
        {
          "output_type": "display_data",
          "data": {
            "image/png": "[encoded data removed]",
            "text/plain": [
              "<Figure size 432x288 with 1 Axes>"
            ]
          },
          "metadata": {
            "tags": [],
            "needs_background": "light"
          }
        }
      ]
    }
  ]
}