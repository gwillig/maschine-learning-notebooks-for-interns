{
  "nbformat": 4,
  "nbformat_minor": 0,
  "metadata": {
    "colab": {
      "name": "Untitled3.ipynb",
      "provenance": [],
      "toc_visible": true,
      "authorship_tag": "ABX9TyNaAoiw+J1y/38QCEJdj9wt",
      "include_colab_link": true
    },
    "kernelspec": {
      "name": "python3",
      "display_name": "Python 3"
    },
    "accelerator": "GPU",
    "widgets": {
      "application/vnd.jupyter.widget-state+json": {
        "973479e5d8b241db9ca7338080b7515d": {
          "model_module": "@jupyter-widgets/controls",
          "model_name": "HBoxModel",
          "state": {
            "_view_name": "HBoxView",
            "_dom_classes": [],
            "_model_name": "HBoxModel",
            "_view_module": "@jupyter-widgets/controls",
            "_model_module_version": "1.5.0",
            "_view_count": null,
            "_view_module_version": "1.5.0",
            "box_style": "",
            "layout": "IPY_MODEL_0adf5d6c5a6b484bbdc6a649aa85bd07",
            "_model_module": "@jupyter-widgets/controls",
            "children": [
              "IPY_MODEL_20f1305e44904a8eaf030fbf192641d7",
              "IPY_MODEL_862b7fd1bc23449f8017b0724a0b0187"
            ]
          }
        },
        "0adf5d6c5a6b484bbdc6a649aa85bd07": {
          "model_module": "@jupyter-widgets/base",
          "model_name": "LayoutModel",
          "state": {
            "_view_name": "LayoutView",
            "grid_template_rows": null,
            "right": null,
            "justify_content": null,
            "_view_module": "@jupyter-widgets/base",
            "overflow": null,
            "_model_module_version": "1.2.0",
            "_view_count": null,
            "flex_flow": null,
            "width": null,
            "min_width": null,
            "border": null,
            "align_items": null,
            "bottom": null,
            "_model_module": "@jupyter-widgets/base",
            "top": null,
            "grid_column": null,
            "overflow_y": null,
            "overflow_x": null,
            "grid_auto_flow": null,
            "grid_area": null,
            "grid_template_columns": null,
            "flex": null,
            "_model_name": "LayoutModel",
            "justify_items": null,
            "grid_row": null,
            "max_height": null,
            "align_content": null,
            "visibility": null,
            "align_self": null,
            "height": null,
            "min_height": null,
            "padding": null,
            "grid_auto_rows": null,
            "grid_gap": null,
            "max_width": null,
            "order": null,
            "_view_module_version": "1.2.0",
            "grid_template_areas": null,
            "object_position": null,
            "object_fit": null,
            "grid_auto_columns": null,
            "margin": null,
            "display": null,
            "left": null
          }
        },
        "20f1305e44904a8eaf030fbf192641d7": {
          "model_module": "@jupyter-widgets/controls",
          "model_name": "FloatProgressModel",
          "state": {
            "_view_name": "ProgressView",
            "style": "IPY_MODEL_8df4f98379fc4d9ba0333700fd2c897d",
            "_dom_classes": [],
            "description": "",
            "_model_name": "FloatProgressModel",
            "bar_style": "success",
            "max": 1,
            "_view_module": "@jupyter-widgets/controls",
            "_model_module_version": "1.5.0",
            "value": 1,
            "_view_count": null,
            "_view_module_version": "1.5.0",
            "orientation": "horizontal",
            "min": 0,
            "description_tooltip": null,
            "_model_module": "@jupyter-widgets/controls",
            "layout": "IPY_MODEL_dc3cbcf4363e489ea789b400a2835ad2"
          }
        },
        "862b7fd1bc23449f8017b0724a0b0187": {
          "model_module": "@jupyter-widgets/controls",
          "model_name": "HTMLModel",
          "state": {
            "_view_name": "HTMLView",
            "style": "IPY_MODEL_e5def053a4f74d62af52efc7acb392fd",
            "_dom_classes": [],
            "description": "",
            "_model_name": "HTMLModel",
            "placeholder": "​",
            "_view_module": "@jupyter-widgets/controls",
            "_model_module_version": "1.5.0",
            "value": " 9920512/? [00:02&lt;00:00, 3733837.90it/s]",
            "_view_count": null,
            "_view_module_version": "1.5.0",
            "description_tooltip": null,
            "_model_module": "@jupyter-widgets/controls",
            "layout": "IPY_MODEL_c83631070725474f8c26ded4fe31e07d"
          }
        },
        "8df4f98379fc4d9ba0333700fd2c897d": {
          "model_module": "@jupyter-widgets/controls",
          "model_name": "ProgressStyleModel",
          "state": {
            "_view_name": "StyleView",
            "_model_name": "ProgressStyleModel",
            "description_width": "initial",
            "_view_module": "@jupyter-widgets/base",
            "_model_module_version": "1.5.0",
            "_view_count": null,
            "_view_module_version": "1.2.0",
            "bar_color": null,
            "_model_module": "@jupyter-widgets/controls"
          }
        },
        "dc3cbcf4363e489ea789b400a2835ad2": {
          "model_module": "@jupyter-widgets/base",
          "model_name": "LayoutModel",
          "state": {
            "_view_name": "LayoutView",
            "grid_template_rows": null,
            "right": null,
            "justify_content": null,
            "_view_module": "@jupyter-widgets/base",
            "overflow": null,
            "_model_module_version": "1.2.0",
            "_view_count": null,
            "flex_flow": null,
            "width": null,
            "min_width": null,
            "border": null,
            "align_items": null,
            "bottom": null,
            "_model_module": "@jupyter-widgets/base",
            "top": null,
            "grid_column": null,
            "overflow_y": null,
            "overflow_x": null,
            "grid_auto_flow": null,
            "grid_area": null,
            "grid_template_columns": null,
            "flex": null,
            "_model_name": "LayoutModel",
            "justify_items": null,
            "grid_row": null,
            "max_height": null,
            "align_content": null,
            "visibility": null,
            "align_self": null,
            "height": null,
            "min_height": null,
            "padding": null,
            "grid_auto_rows": null,
            "grid_gap": null,
            "max_width": null,
            "order": null,
            "_view_module_version": "1.2.0",
            "grid_template_areas": null,
            "object_position": null,
            "object_fit": null,
            "grid_auto_columns": null,
            "margin": null,
            "display": null,
            "left": null
          }
        },
        "e5def053a4f74d62af52efc7acb392fd": {
          "model_module": "@jupyter-widgets/controls",
          "model_name": "DescriptionStyleModel",
          "state": {
            "_view_name": "StyleView",
            "_model_name": "DescriptionStyleModel",
            "description_width": "",
            "_view_module": "@jupyter-widgets/base",
            "_model_module_version": "1.5.0",
            "_view_count": null,
            "_view_module_version": "1.2.0",
            "_model_module": "@jupyter-widgets/controls"
          }
        },
        "c83631070725474f8c26ded4fe31e07d": {
          "model_module": "@jupyter-widgets/base",
          "model_name": "LayoutModel",
          "state": {
            "_view_name": "LayoutView",
            "grid_template_rows": null,
            "right": null,
            "justify_content": null,
            "_view_module": "@jupyter-widgets/base",
            "overflow": null,
            "_model_module_version": "1.2.0",
            "_view_count": null,
            "flex_flow": null,
            "width": null,
            "min_width": null,
            "border": null,
            "align_items": null,
            "bottom": null,
            "_model_module": "@jupyter-widgets/base",
            "top": null,
            "grid_column": null,
            "overflow_y": null,
            "overflow_x": null,
            "grid_auto_flow": null,
            "grid_area": null,
            "grid_template_columns": null,
            "flex": null,
            "_model_name": "LayoutModel",
            "justify_items": null,
            "grid_row": null,
            "max_height": null,
            "align_content": null,
            "visibility": null,
            "align_self": null,
            "height": null,
            "min_height": null,
            "padding": null,
            "grid_auto_rows": null,
            "grid_gap": null,
            "max_width": null,
            "order": null,
            "_view_module_version": "1.2.0",
            "grid_template_areas": null,
            "object_position": null,
            "object_fit": null,
            "grid_auto_columns": null,
            "margin": null,
            "display": null,
            "left": null
          }
        },
        "cb2256b5d06743f68084dcc580d5035c": {
          "model_module": "@jupyter-widgets/controls",
          "model_name": "HBoxModel",
          "state": {
            "_view_name": "HBoxView",
            "_dom_classes": [],
            "_model_name": "HBoxModel",
            "_view_module": "@jupyter-widgets/controls",
            "_model_module_version": "1.5.0",
            "_view_count": null,
            "_view_module_version": "1.5.0",
            "box_style": "",
            "layout": "IPY_MODEL_2fa6ab503e744963b203b6f4343e59df",
            "_model_module": "@jupyter-widgets/controls",
            "children": [
              "IPY_MODEL_bc5ad8a780994ea49eab27baca1589a7",
              "IPY_MODEL_09b130fcfa414b938f2c34d3b74bd10c"
            ]
          }
        },
        "2fa6ab503e744963b203b6f4343e59df": {
          "model_module": "@jupyter-widgets/base",
          "model_name": "LayoutModel",
          "state": {
            "_view_name": "LayoutView",
            "grid_template_rows": null,
            "right": null,
            "justify_content": null,
            "_view_module": "@jupyter-widgets/base",
            "overflow": null,
            "_model_module_version": "1.2.0",
            "_view_count": null,
            "flex_flow": null,
            "width": null,
            "min_width": null,
            "border": null,
            "align_items": null,
            "bottom": null,
            "_model_module": "@jupyter-widgets/base",
            "top": null,
            "grid_column": null,
            "overflow_y": null,
            "overflow_x": null,
            "grid_auto_flow": null,
            "grid_area": null,
            "grid_template_columns": null,
            "flex": null,
            "_model_name": "LayoutModel",
            "justify_items": null,
            "grid_row": null,
            "max_height": null,
            "align_content": null,
            "visibility": null,
            "align_self": null,
            "height": null,
            "min_height": null,
            "padding": null,
            "grid_auto_rows": null,
            "grid_gap": null,
            "max_width": null,
            "order": null,
            "_view_module_version": "1.2.0",
            "grid_template_areas": null,
            "object_position": null,
            "object_fit": null,
            "grid_auto_columns": null,
            "margin": null,
            "display": null,
            "left": null
          }
        },
        "bc5ad8a780994ea49eab27baca1589a7": {
          "model_module": "@jupyter-widgets/controls",
          "model_name": "FloatProgressModel",
          "state": {
            "_view_name": "ProgressView",
            "style": "IPY_MODEL_135fea8b6cd34bc8b817c9203c43e1aa",
            "_dom_classes": [],
            "description": "",
            "_model_name": "FloatProgressModel",
            "bar_style": "success",
            "max": 1,
            "_view_module": "@jupyter-widgets/controls",
            "_model_module_version": "1.5.0",
            "value": 1,
            "_view_count": null,
            "_view_module_version": "1.5.0",
            "orientation": "horizontal",
            "min": 0,
            "description_tooltip": null,
            "_model_module": "@jupyter-widgets/controls",
            "layout": "IPY_MODEL_bae7707163b84bdbb554cdd774cdb174"
          }
        },
        "09b130fcfa414b938f2c34d3b74bd10c": {
          "model_module": "@jupyter-widgets/controls",
          "model_name": "HTMLModel",
          "state": {
            "_view_name": "HTMLView",
            "style": "IPY_MODEL_146430e1a7c14d40af44e23d6b7038b2",
            "_dom_classes": [],
            "description": "",
            "_model_name": "HTMLModel",
            "placeholder": "​",
            "_view_module": "@jupyter-widgets/controls",
            "_model_module_version": "1.5.0",
            "value": " 32768/? [00:01&lt;00:00, 29776.64it/s]",
            "_view_count": null,
            "_view_module_version": "1.5.0",
            "description_tooltip": null,
            "_model_module": "@jupyter-widgets/controls",
            "layout": "IPY_MODEL_2dfc760e044a43dca31750ee54ce0356"
          }
        },
        "135fea8b6cd34bc8b817c9203c43e1aa": {
          "model_module": "@jupyter-widgets/controls",
          "model_name": "ProgressStyleModel",
          "state": {
            "_view_name": "StyleView",
            "_model_name": "ProgressStyleModel",
            "description_width": "initial",
            "_view_module": "@jupyter-widgets/base",
            "_model_module_version": "1.5.0",
            "_view_count": null,
            "_view_module_version": "1.2.0",
            "bar_color": null,
            "_model_module": "@jupyter-widgets/controls"
          }
        },
        "bae7707163b84bdbb554cdd774cdb174": {
          "model_module": "@jupyter-widgets/base",
          "model_name": "LayoutModel",
          "state": {
            "_view_name": "LayoutView",
            "grid_template_rows": null,
            "right": null,
            "justify_content": null,
            "_view_module": "@jupyter-widgets/base",
            "overflow": null,
            "_model_module_version": "1.2.0",
            "_view_count": null,
            "flex_flow": null,
            "width": null,
            "min_width": null,
            "border": null,
            "align_items": null,
            "bottom": null,
            "_model_module": "@jupyter-widgets/base",
            "top": null,
            "grid_column": null,
            "overflow_y": null,
            "overflow_x": null,
            "grid_auto_flow": null,
            "grid_area": null,
            "grid_template_columns": null,
            "flex": null,
            "_model_name": "LayoutModel",
            "justify_items": null,
            "grid_row": null,
            "max_height": null,
            "align_content": null,
            "visibility": null,
            "align_self": null,
            "height": null,
            "min_height": null,
            "padding": null,
            "grid_auto_rows": null,
            "grid_gap": null,
            "max_width": null,
            "order": null,
            "_view_module_version": "1.2.0",
            "grid_template_areas": null,
            "object_position": null,
            "object_fit": null,
            "grid_auto_columns": null,
            "margin": null,
            "display": null,
            "left": null
          }
        },
        "146430e1a7c14d40af44e23d6b7038b2": {
          "model_module": "@jupyter-widgets/controls",
          "model_name": "DescriptionStyleModel",
          "state": {
            "_view_name": "StyleView",
            "_model_name": "DescriptionStyleModel",
            "description_width": "",
            "_view_module": "@jupyter-widgets/base",
            "_model_module_version": "1.5.0",
            "_view_count": null,
            "_view_module_version": "1.2.0",
            "_model_module": "@jupyter-widgets/controls"
          }
        },
        "2dfc760e044a43dca31750ee54ce0356": {
          "model_module": "@jupyter-widgets/base",
          "model_name": "LayoutModel",
          "state": {
            "_view_name": "LayoutView",
            "grid_template_rows": null,
            "right": null,
            "justify_content": null,
            "_view_module": "@jupyter-widgets/base",
            "overflow": null,
            "_model_module_version": "1.2.0",
            "_view_count": null,
            "flex_flow": null,
            "width": null,
            "min_width": null,
            "border": null,
            "align_items": null,
            "bottom": null,
            "_model_module": "@jupyter-widgets/base",
            "top": null,
            "grid_column": null,
            "overflow_y": null,
            "overflow_x": null,
            "grid_auto_flow": null,
            "grid_area": null,
            "grid_template_columns": null,
            "flex": null,
            "_model_name": "LayoutModel",
            "justify_items": null,
            "grid_row": null,
            "max_height": null,
            "align_content": null,
            "visibility": null,
            "align_self": null,
            "height": null,
            "min_height": null,
            "padding": null,
            "grid_auto_rows": null,
            "grid_gap": null,
            "max_width": null,
            "order": null,
            "_view_module_version": "1.2.0",
            "grid_template_areas": null,
            "object_position": null,
            "object_fit": null,
            "grid_auto_columns": null,
            "margin": null,
            "display": null,
            "left": null
          }
        },
        "e92260e0d54048eaac40a56bd8586314": {
          "model_module": "@jupyter-widgets/controls",
          "model_name": "HBoxModel",
          "state": {
            "_view_name": "HBoxView",
            "_dom_classes": [],
            "_model_name": "HBoxModel",
            "_view_module": "@jupyter-widgets/controls",
            "_model_module_version": "1.5.0",
            "_view_count": null,
            "_view_module_version": "1.5.0",
            "box_style": "",
            "layout": "IPY_MODEL_7b5050408bb942d8b1d1c23a651a7a46",
            "_model_module": "@jupyter-widgets/controls",
            "children": [
              "IPY_MODEL_cfca4f6be44b458eb740e2bd4ca7dcf5",
              "IPY_MODEL_84476647db8d4e23b5366a1bdebc1c5a"
            ]
          }
        },
        "7b5050408bb942d8b1d1c23a651a7a46": {
          "model_module": "@jupyter-widgets/base",
          "model_name": "LayoutModel",
          "state": {
            "_view_name": "LayoutView",
            "grid_template_rows": null,
            "right": null,
            "justify_content": null,
            "_view_module": "@jupyter-widgets/base",
            "overflow": null,
            "_model_module_version": "1.2.0",
            "_view_count": null,
            "flex_flow": null,
            "width": null,
            "min_width": null,
            "border": null,
            "align_items": null,
            "bottom": null,
            "_model_module": "@jupyter-widgets/base",
            "top": null,
            "grid_column": null,
            "overflow_y": null,
            "overflow_x": null,
            "grid_auto_flow": null,
            "grid_area": null,
            "grid_template_columns": null,
            "flex": null,
            "_model_name": "LayoutModel",
            "justify_items": null,
            "grid_row": null,
            "max_height": null,
            "align_content": null,
            "visibility": null,
            "align_self": null,
            "height": null,
            "min_height": null,
            "padding": null,
            "grid_auto_rows": null,
            "grid_gap": null,
            "max_width": null,
            "order": null,
            "_view_module_version": "1.2.0",
            "grid_template_areas": null,
            "object_position": null,
            "object_fit": null,
            "grid_auto_columns": null,
            "margin": null,
            "display": null,
            "left": null
          }
        },
        "cfca4f6be44b458eb740e2bd4ca7dcf5": {
          "model_module": "@jupyter-widgets/controls",
          "model_name": "FloatProgressModel",
          "state": {
            "_view_name": "ProgressView",
            "style": "IPY_MODEL_0e24532aafd14eaf9838c8c8bad621c7",
            "_dom_classes": [],
            "description": "",
            "_model_name": "FloatProgressModel",
            "bar_style": "success",
            "max": 1,
            "_view_module": "@jupyter-widgets/controls",
            "_model_module_version": "1.5.0",
            "value": 1,
            "_view_count": null,
            "_view_module_version": "1.5.0",
            "orientation": "horizontal",
            "min": 0,
            "description_tooltip": null,
            "_model_module": "@jupyter-widgets/controls",
            "layout": "IPY_MODEL_bd251d52af574d3ab284a66d97908ae1"
          }
        },
        "84476647db8d4e23b5366a1bdebc1c5a": {
          "model_module": "@jupyter-widgets/controls",
          "model_name": "HTMLModel",
          "state": {
            "_view_name": "HTMLView",
            "style": "IPY_MODEL_89d0f7e8bb654d1e85edf1e5a38e66e7",
            "_dom_classes": [],
            "description": "",
            "_model_name": "HTMLModel",
            "placeholder": "​",
            "_view_module": "@jupyter-widgets/controls",
            "_model_module_version": "1.5.0",
            "value": " 1654784/? [00:01&lt;00:00, 851167.98it/s]",
            "_view_count": null,
            "_view_module_version": "1.5.0",
            "description_tooltip": null,
            "_model_module": "@jupyter-widgets/controls",
            "layout": "IPY_MODEL_4d45fb00f27d4cfb83ba778f5c4dbe90"
          }
        },
        "0e24532aafd14eaf9838c8c8bad621c7": {
          "model_module": "@jupyter-widgets/controls",
          "model_name": "ProgressStyleModel",
          "state": {
            "_view_name": "StyleView",
            "_model_name": "ProgressStyleModel",
            "description_width": "initial",
            "_view_module": "@jupyter-widgets/base",
            "_model_module_version": "1.5.0",
            "_view_count": null,
            "_view_module_version": "1.2.0",
            "bar_color": null,
            "_model_module": "@jupyter-widgets/controls"
          }
        },
        "bd251d52af574d3ab284a66d97908ae1": {
          "model_module": "@jupyter-widgets/base",
          "model_name": "LayoutModel",
          "state": {
            "_view_name": "LayoutView",
            "grid_template_rows": null,
            "right": null,
            "justify_content": null,
            "_view_module": "@jupyter-widgets/base",
            "overflow": null,
            "_model_module_version": "1.2.0",
            "_view_count": null,
            "flex_flow": null,
            "width": null,
            "min_width": null,
            "border": null,
            "align_items": null,
            "bottom": null,
            "_model_module": "@jupyter-widgets/base",
            "top": null,
            "grid_column": null,
            "overflow_y": null,
            "overflow_x": null,
            "grid_auto_flow": null,
            "grid_area": null,
            "grid_template_columns": null,
            "flex": null,
            "_model_name": "LayoutModel",
            "justify_items": null,
            "grid_row": null,
            "max_height": null,
            "align_content": null,
            "visibility": null,
            "align_self": null,
            "height": null,
            "min_height": null,
            "padding": null,
            "grid_auto_rows": null,
            "grid_gap": null,
            "max_width": null,
            "order": null,
            "_view_module_version": "1.2.0",
            "grid_template_areas": null,
            "object_position": null,
            "object_fit": null,
            "grid_auto_columns": null,
            "margin": null,
            "display": null,
            "left": null
          }
        },
        "89d0f7e8bb654d1e85edf1e5a38e66e7": {
          "model_module": "@jupyter-widgets/controls",
          "model_name": "DescriptionStyleModel",
          "state": {
            "_view_name": "StyleView",
            "_model_name": "DescriptionStyleModel",
            "description_width": "",
            "_view_module": "@jupyter-widgets/base",
            "_model_module_version": "1.5.0",
            "_view_count": null,
            "_view_module_version": "1.2.0",
            "_model_module": "@jupyter-widgets/controls"
          }
        },
        "4d45fb00f27d4cfb83ba778f5c4dbe90": {
          "model_module": "@jupyter-widgets/base",
          "model_name": "LayoutModel",
          "state": {
            "_view_name": "LayoutView",
            "grid_template_rows": null,
            "right": null,
            "justify_content": null,
            "_view_module": "@jupyter-widgets/base",
            "overflow": null,
            "_model_module_version": "1.2.0",
            "_view_count": null,
            "flex_flow": null,
            "width": null,
            "min_width": null,
            "border": null,
            "align_items": null,
            "bottom": null,
            "_model_module": "@jupyter-widgets/base",
            "top": null,
            "grid_column": null,
            "overflow_y": null,
            "overflow_x": null,
            "grid_auto_flow": null,
            "grid_area": null,
            "grid_template_columns": null,
            "flex": null,
            "_model_name": "LayoutModel",
            "justify_items": null,
            "grid_row": null,
            "max_height": null,
            "align_content": null,
            "visibility": null,
            "align_self": null,
            "height": null,
            "min_height": null,
            "padding": null,
            "grid_auto_rows": null,
            "grid_gap": null,
            "max_width": null,
            "order": null,
            "_view_module_version": "1.2.0",
            "grid_template_areas": null,
            "object_position": null,
            "object_fit": null,
            "grid_auto_columns": null,
            "margin": null,
            "display": null,
            "left": null
          }
        },
        "67c6956fc5bb4589ab9938627713e2b0": {
          "model_module": "@jupyter-widgets/controls",
          "model_name": "HBoxModel",
          "state": {
            "_view_name": "HBoxView",
            "_dom_classes": [],
            "_model_name": "HBoxModel",
            "_view_module": "@jupyter-widgets/controls",
            "_model_module_version": "1.5.0",
            "_view_count": null,
            "_view_module_version": "1.5.0",
            "box_style": "",
            "layout": "IPY_MODEL_937cbcba2c3741eda8f6d730a55c596f",
            "_model_module": "@jupyter-widgets/controls",
            "children": [
              "IPY_MODEL_c69048f53366474aa8dadc3d6cbfa2ca",
              "IPY_MODEL_5d1e39de5c4d411b902c686c4433e3f5"
            ]
          }
        },
        "937cbcba2c3741eda8f6d730a55c596f": {
          "model_module": "@jupyter-widgets/base",
          "model_name": "LayoutModel",
          "state": {
            "_view_name": "LayoutView",
            "grid_template_rows": null,
            "right": null,
            "justify_content": null,
            "_view_module": "@jupyter-widgets/base",
            "overflow": null,
            "_model_module_version": "1.2.0",
            "_view_count": null,
            "flex_flow": null,
            "width": null,
            "min_width": null,
            "border": null,
            "align_items": null,
            "bottom": null,
            "_model_module": "@jupyter-widgets/base",
            "top": null,
            "grid_column": null,
            "overflow_y": null,
            "overflow_x": null,
            "grid_auto_flow": null,
            "grid_area": null,
            "grid_template_columns": null,
            "flex": null,
            "_model_name": "LayoutModel",
            "justify_items": null,
            "grid_row": null,
            "max_height": null,
            "align_content": null,
            "visibility": null,
            "align_self": null,
            "height": null,
            "min_height": null,
            "padding": null,
            "grid_auto_rows": null,
            "grid_gap": null,
            "max_width": null,
            "order": null,
            "_view_module_version": "1.2.0",
            "grid_template_areas": null,
            "object_position": null,
            "object_fit": null,
            "grid_auto_columns": null,
            "margin": null,
            "display": null,
            "left": null
          }
        },
        "c69048f53366474aa8dadc3d6cbfa2ca": {
          "model_module": "@jupyter-widgets/controls",
          "model_name": "FloatProgressModel",
          "state": {
            "_view_name": "ProgressView",
            "style": "IPY_MODEL_f0fb5921789c4e1ebb746644a4a466f5",
            "_dom_classes": [],
            "description": "",
            "_model_name": "FloatProgressModel",
            "bar_style": "success",
            "max": 1,
            "_view_module": "@jupyter-widgets/controls",
            "_model_module_version": "1.5.0",
            "value": 1,
            "_view_count": null,
            "_view_module_version": "1.5.0",
            "orientation": "horizontal",
            "min": 0,
            "description_tooltip": null,
            "_model_module": "@jupyter-widgets/controls",
            "layout": "IPY_MODEL_1ec97a317b5347098fe395866f39c54c"
          }
        },
        "5d1e39de5c4d411b902c686c4433e3f5": {
          "model_module": "@jupyter-widgets/controls",
          "model_name": "HTMLModel",
          "state": {
            "_view_name": "HTMLView",
            "style": "IPY_MODEL_f4668f77f305483083b3db88c9567ec0",
            "_dom_classes": [],
            "description": "",
            "_model_name": "HTMLModel",
            "placeholder": "​",
            "_view_module": "@jupyter-widgets/controls",
            "_model_module_version": "1.5.0",
            "value": " 8192/? [00:00&lt;00:00, 20028.32it/s]",
            "_view_count": null,
            "_view_module_version": "1.5.0",
            "description_tooltip": null,
            "_model_module": "@jupyter-widgets/controls",
            "layout": "IPY_MODEL_8d6f73d38c0e4033982298ca9c450bad"
          }
        },
        "f0fb5921789c4e1ebb746644a4a466f5": {
          "model_module": "@jupyter-widgets/controls",
          "model_name": "ProgressStyleModel",
          "state": {
            "_view_name": "StyleView",
            "_model_name": "ProgressStyleModel",
            "description_width": "initial",
            "_view_module": "@jupyter-widgets/base",
            "_model_module_version": "1.5.0",
            "_view_count": null,
            "_view_module_version": "1.2.0",
            "bar_color": null,
            "_model_module": "@jupyter-widgets/controls"
          }
        },
        "1ec97a317b5347098fe395866f39c54c": {
          "model_module": "@jupyter-widgets/base",
          "model_name": "LayoutModel",
          "state": {
            "_view_name": "LayoutView",
            "grid_template_rows": null,
            "right": null,
            "justify_content": null,
            "_view_module": "@jupyter-widgets/base",
            "overflow": null,
            "_model_module_version": "1.2.0",
            "_view_count": null,
            "flex_flow": null,
            "width": null,
            "min_width": null,
            "border": null,
            "align_items": null,
            "bottom": null,
            "_model_module": "@jupyter-widgets/base",
            "top": null,
            "grid_column": null,
            "overflow_y": null,
            "overflow_x": null,
            "grid_auto_flow": null,
            "grid_area": null,
            "grid_template_columns": null,
            "flex": null,
            "_model_name": "LayoutModel",
            "justify_items": null,
            "grid_row": null,
            "max_height": null,
            "align_content": null,
            "visibility": null,
            "align_self": null,
            "height": null,
            "min_height": null,
            "padding": null,
            "grid_auto_rows": null,
            "grid_gap": null,
            "max_width": null,
            "order": null,
            "_view_module_version": "1.2.0",
            "grid_template_areas": null,
            "object_position": null,
            "object_fit": null,
            "grid_auto_columns": null,
            "margin": null,
            "display": null,
            "left": null
          }
        },
        "f4668f77f305483083b3db88c9567ec0": {
          "model_module": "@jupyter-widgets/controls",
          "model_name": "DescriptionStyleModel",
          "state": {
            "_view_name": "StyleView",
            "_model_name": "DescriptionStyleModel",
            "description_width": "",
            "_view_module": "@jupyter-widgets/base",
            "_model_module_version": "1.5.0",
            "_view_count": null,
            "_view_module_version": "1.2.0",
            "_model_module": "@jupyter-widgets/controls"
          }
        },
        "8d6f73d38c0e4033982298ca9c450bad": {
          "model_module": "@jupyter-widgets/base",
          "model_name": "LayoutModel",
          "state": {
            "_view_name": "LayoutView",
            "grid_template_rows": null,
            "right": null,
            "justify_content": null,
            "_view_module": "@jupyter-widgets/base",
            "overflow": null,
            "_model_module_version": "1.2.0",
            "_view_count": null,
            "flex_flow": null,
            "width": null,
            "min_width": null,
            "border": null,
            "align_items": null,
            "bottom": null,
            "_model_module": "@jupyter-widgets/base",
            "top": null,
            "grid_column": null,
            "overflow_y": null,
            "overflow_x": null,
            "grid_auto_flow": null,
            "grid_area": null,
            "grid_template_columns": null,
            "flex": null,
            "_model_name": "LayoutModel",
            "justify_items": null,
            "grid_row": null,
            "max_height": null,
            "align_content": null,
            "visibility": null,
            "align_self": null,
            "height": null,
            "min_height": null,
            "padding": null,
            "grid_auto_rows": null,
            "grid_gap": null,
            "max_width": null,
            "order": null,
            "_view_module_version": "1.2.0",
            "grid_template_areas": null,
            "object_position": null,
            "object_fit": null,
            "grid_auto_columns": null,
            "margin": null,
            "display": null,
            "left": null
          }
        }
      }
    }
  },
  "cells": [
    {
      "cell_type": "markdown",
      "metadata": {
        "id": "view-in-github",
        "colab_type": "text"
      },
      "source": [
        "<a href=\"https://colab.research.google.com/github/gwillig/maschine-learning-notebooks-for-interns/blob/master/example.ipynb\" target=\"_parent\"><img src=\"https://colab.research.google.com/assets/colab-badge.svg\" alt=\"Open In Colab\"/></a>"
      ]
    },
    {
      "cell_type": "markdown",
      "metadata": {
        "id": "B_0B7C9fqSqj",
        "colab_type": "text"
      },
      "source": [
        "### Filter"
      ]
    },
    {
      "cell_type": "markdown",
      "metadata": {
        "id": "dQAX5CDUi-1W",
        "colab_type": "text"
      },
      "source": [
        "# Naive Bayes - Gaussian"
      ]
    },
    {
      "cell_type": "code",
      "metadata": {
        "id": "ZybI3F6yiLt9",
        "colab_type": "code",
        "colab": {
          "base_uri": "https://localhost:8080/",
          "height": 34
        },
        "outputId": "501e18e0-1d6d-4142-da64-baf0ea65f0a4"
      },
      "source": [
        "from sklearn.datasets import load_iris\n",
        "from sklearn.model_selection import train_test_split\n",
        "from sklearn.naive_bayes import GaussianNB\n",
        "import pandas as pd \n",
        "X, y = load_iris(return_X_y=True)\n",
        "X_train, X_test, y_train, y_test = train_test_split(X, y, test_size=0.5, random_state=0)\n",
        "gnb = GaussianNB()\n",
        "traing_model = gnb.fit(X_train, y_train)\n",
        "y_pred=gnb.fit(X_train, y_train).predict(X_test)\n",
        "print(\"Number of mislabeled points out of a total %d points : %d\"\n",
        "      % (X_test.shape[0], (y_test != y_pred).sum()))\n"
      ],
      "execution_count": null,
      "outputs": [
        {
          "output_type": "stream",
          "text": [
            "Number of mislabeled points out of a total 75 points : 4\n"
          ],
          "name": "stdout"
        }
      ]
    },
    {
      "cell_type": "code",
      "metadata": {
        "id": "-2YYnExDiVRA",
        "colab_type": "code",
        "colab": {
          "base_uri": "https://localhost:8080/",
          "height": 87
        },
        "outputId": "6f9f686f-1d30-41ab-fb93-ed604391e350"
      },
      "source": [
        "traing_model.predict(ca)"
      ],
      "execution_count": null,
      "outputs": [
        {
          "output_type": "execute_result",
          "data": {
            "text/plain": [
              "array([2, 1, 0, 2, 0, 2, 0, 1, 1, 1, 1, 1, 1, 1, 1, 0, 1, 1, 0, 0, 2, 1,\n",
              "       0, 0, 2, 0, 0, 1, 1, 0, 2, 1, 0, 2, 2, 1, 0, 1, 1, 1, 2, 0, 2, 0,\n",
              "       0, 1, 2, 2, 1, 2, 1, 2, 1, 1, 2, 1, 1, 2, 1, 2, 1, 0, 2, 1, 1, 1,\n",
              "       1, 2, 0, 0, 2, 1, 0, 0, 1])"
            ]
          },
          "metadata": {
            "tags": []
          },
          "execution_count": 5
        }
      ]
    },
    {
      "cell_type": "markdown",
      "metadata": {
        "id": "XSKNB2y8kKJX",
        "colab_type": "text"
      },
      "source": [
        "## Second example for NB\n",
        "\n",
        "\n",
        "\n"
      ]
    },
    {
      "cell_type": "code",
      "metadata": {
        "id": "GrXWzkzqkWCg",
        "colab_type": "code",
        "colab": {}
      },
      "source": [
        "from sklearn.naive_bayes import GaussianNB\n",
        "gnb = GaussianNB()\n",
        "import  pandas as pd\n",
        "data={\"Type\":[\"Banana\",\"Orange\",\"Other\"],\"Long\":[400,0,100],\"Not Long\":[100,300,100]\n",
        " ,\"Sweet\":[350,150,150],\"Not Sweet\":[150,150,50],\"Yellow\":[450,300,50],\"Not Yellow\":[50,0,150]}\n",
        "\t\t\t\t\t\n",
        "\n",
        "df = pd.DataFrame(data)\n",
        "\n",
        "train_feature_keys = list(df.keys())\n",
        "train_feature_keys.remove(\"Type\")\n",
        "train_label_y_key =\"Type\"\n",
        "x_train = df[train_feature_keys]\n",
        "y_train = df[train_label_y_key]\n",
        "traing_model = gnb.fit(x_train, y_train)\n",
        "\n",
        "train_feature_keys = list(df.keys())\n",
        "\n"
      ],
      "execution_count": null,
      "outputs": []
    },
    {
      "cell_type": "markdown",
      "metadata": {
        "id": "7OIu1KNsjJu0",
        "colab_type": "text"
      },
      "source": [
        "# Normal distribution "
      ]
    },
    {
      "cell_type": "code",
      "metadata": {
        "id": "O5w4sf5vXBLR",
        "colab_type": "code",
        "colab": {
          "base_uri": "https://localhost:8080/",
          "height": 50
        },
        "outputId": "2061ec81-2545-4147-c7b5-43eac2bbe2c0"
      },
      "source": [
        "import numpy as np \n",
        "\n",
        "s1 = np.random.normal(40, 26, 10)\n",
        "s2 = np.random.normal(40, 26, 35)\n",
        "s3 = np.random.normal(40, 26, 62)\n",
        "\n",
        "import scipy.stats\n",
        "s1 =  scipy.stats.norm(  40, 26).pdf(10)*100\n",
        "s2 =  scipy.stats.norm(40, 26).pdf(35)*100\n",
        "s3 =  scipy.stats.norm(40, 26).pdf(62)*100\n",
        "s1 =  scipy.stats.norm.sf(10,40,26**0.5)*100\n",
        "s2 = scipy.stats.norm.sf(35,40,26**0.5)*100\n",
        "s3 =  scipy.stats.norm.sf(62,40,26**0.5)*100\n",
        "\n",
        "print( round(s1,0),round(s2,0),round(s3,0))\n",
        "\n",
        "s1 = - math.log(scipy.stats.norm.sf(10,27,314**0.5))*100\n",
        "s2 =-math.log( scipy.stats.norm.sf(35,27,314**0.5))*100\n",
        "s3 = -math.log( scipy.stats.norm.sf(62,27,314**0.5))*100\n",
        "print( round(s1,0),round(s2,0),round(s3,0))\n",
        "\n",
        "#equal to let's say 125, you'd use SF Survival Function \n"
      ],
      "execution_count": null,
      "outputs": [
        {
          "output_type": "stream",
          "text": [
            "100.0 84.0 0.0\n",
            "18.0 112.0 372.0\n"
          ],
          "name": "stdout"
        }
      ]
    },
    {
      "cell_type": "code",
      "metadata": {
        "id": "irPADMS_kKbq",
        "colab_type": "code",
        "colab": {
          "base_uri": "https://localhost:8080/",
          "height": 50
        },
        "outputId": "451804d5-65c5-4243-e2c0-dc402d797766"
      },
      "source": [
        "si=26**0.5\n",
        "mu=40\n",
        " \n",
        "x1=10\n",
        "x2=4\n",
        "x3=62\n",
        "s1 =  scipy.stats.norm(mu, si).pdf(x1)*100\n",
        "s2 =  scipy.stats.norm(mu, si).pdf(x2)*100\n",
        "s3 =  scipy.stats.norm(mu, si).pdf(x3)*100\n",
        "print( round(s1,2),round(s2,2),round(s3,2))\n",
        " \n",
        "si=314**0.5\n",
        " \n",
        "mu=27\n",
        " \n",
        "s1 =  scipy.stats.norm(mu, si).pdf(x1)*100\n",
        "s2 =  scipy.stats.norm(mu, si).pdf(x2)*100\n",
        "s3 =  scipy.stats.norm(mu, si).pdf(x3)*100\n",
        "print( round(s1,2),round(s2,2),round(s3,2))"
      ],
      "execution_count": null,
      "outputs": [
        {
          "output_type": "stream",
          "text": [
            "0.0 4.84 0.0\n",
            "1.42 2.03 0.32\n"
          ],
          "name": "stdout"
        }
      ]
    },
    {
      "cell_type": "code",
      "metadata": {
        "id": "t5GKRHBKmKzL",
        "colab_type": "code",
        "colab": {
          "base_uri": "https://localhost:8080/",
          "height": 394
        },
        "outputId": "a52ec3de-3713-4d2b-a276-a93597dc7a35"
      },
      "source": [
        " \n",
        "import matplotlib.pyplot as plt\n",
        "import numpy as np\n",
        "import scipy.stats as stats\n",
        "import math\n",
        "import seaborn as sns\n",
        "mu = 4\n",
        "variance = 4**0.5\n",
        "sigma = math.sqrt(variance)\n",
        "### Create the Probability density function\n",
        "x = np.linspace(mu - 5*sigma, mu + 5*sigma, 100)\n",
        "ax = sns.lineplot(x, stats.norm.pdf(x, mu, sigma))\n",
        "# ax.axvline(35,c=\"b\", linewidth = 3) #add a line to the graph\n",
        "part = np.arange(,40,1)\n",
        "ax.fill_between(part,stats.norm.pdf(part, mu, sigma),)\n",
        "plt.show()\n",
        " \n",
        "### Create the cumulative distribution function\n",
        "ax = sns.lineplot(x, stats.norm.cdf(x, mu, sigma))\n",
        " \n",
        "ax.fill_between(x, stats.norm.cdf(x, mu, sigma))"
      ],
      "execution_count": null,
      "outputs": [
        {
          "output_type": "stream",
          "text": [
            "/usr/local/lib/python3.6/dist-packages/statsmodels/tools/_testing.py:19: FutureWarning: pandas.util.testing is deprecated. Use the functions in the public API at pandas.testing instead.\n",
            "  import pandas.util.testing as tm\n"
          ],
          "name": "stderr"
        },
        {
          "output_type": "display_data",
          "data": {
            "image/png": "[encoded data removed]",
            "text/plain": [
              "<Figure size 432x288 with 1 Axes>"
            ]
          },
          "metadata": {
            "tags": [],
            "needs_background": "light"
          }
        },
        {
          "output_type": "execute_result",
          "data": {
            "text/plain": [
              "<matplotlib.collections.PolyCollection at 0x7f16b0e50da0>"
            ]
          },
          "metadata": {
            "tags": []
          },
          "execution_count": 1
        },
        {
          "output_type": "display_data",
          "data": {
            "image/png": "[encoded data removed]",
            "text/plain": [
              "<Figure size 432x288 with 1 Axes>"
            ]
          },
          "metadata": {
            "tags": [],
            "needs_background": "light"
          }
        }
      ]
    },
    {
      "cell_type": "code",
      "metadata": {
        "id": "dw7wIDzE2Lbi",
        "colab_type": "code",
        "colab": {
          "base_uri": "https://localhost:8080/",
          "height": 52
        },
        "outputId": "16ee48ff-5ac0-469b-ce57-8e6499299f9f"
      },
      "source": [
        "from scipy import stats\n",
        "mu=150\n",
        "si=(1000*0.15*0.85)**0.5\n",
        "x1=170\n",
        "x2=20\n",
        "pro = stats.norm.cdf(x1, loc=mu, scale=si) -stats.norm.cdf(x2, loc=mu, scale=si) \n",
        "print(pro*100)\n",
        "print(stats.norm.cdf(x1, loc=mu, scale=si))"
      ],
      "execution_count": null,
      "outputs": [
        {
          "output_type": "stream",
          "text": [
            "96.17387497624705\n",
            "0.9617387497624704\n"
          ],
          "name": "stdout"
        }
      ]
    },
    {
      "cell_type": "code",
      "metadata": {
        "id": "SNh-6utQyD7Z",
        "colab_type": "code",
        "colab": {
          "base_uri": "https://localhost:8080/",
          "height": 34
        },
        "outputId": "331762d2-9d55-41ce-9843-85e21e3f27cc"
      },
      "source": [
        "len(data[\"treatment\"])"
      ],
      "execution_count": null,
      "outputs": [
        {
          "output_type": "execute_result",
          "data": {
            "text/plain": [
              "4"
            ]
          },
          "metadata": {
            "tags": []
          },
          "execution_count": 12
        }
      ]
    },
    {
      "cell_type": "code",
      "metadata": {
        "id": "BSePOtpexi-Z",
        "colab_type": "code",
        "colab": {}
      },
      "source": [
        "data_raw={2012:3,2013:0,2014:2,2015:2,2016:0,2017:0,2018:1,2019:3}\n",
        "\n",
        "data ={\"year\":[2012,2013,2014,2015,2016,2017,2018,2019],\"treatment\":[3,0,2,2,0,0,1,3]}\n",
        "data_raw={2012:3,2013:0,2014:2,2015:2,2016:0,2017:0,2018:1,2019:3}\n",
        "\n",
        "data ={\"year\":[2018,2019],\"treatment\":[1,3]}"
      ],
      "execution_count": null,
      "outputs": []
    },
    {
      "cell_type": "code",
      "metadata": {
        "id": "CSHjFub7qpFQ",
        "colab_type": "code",
        "colab": {
          "base_uri": "https://localhost:8080/",
          "height": 423
        },
        "outputId": "18f2470c-53c2-45ae-bffb-91d44b4a4898"
      },
      "source": [
        "'#Zahnfüllungen von S'\n",
        "import pandas as pd\n",
        "import numpy as np\n",
        "import seaborn as sns\n",
        "from scipy import stats\n",
        "import matplotlib.pyplot as plt\n",
        "\n",
        "df = pd.DataFrame(data)\n",
        "df.describe()\n",
        "mu = df.describe().loc[\"mean\",\"treatment\"]\n",
        "sigma = df.describe().loc[\"std\",\"treatment\"]\n",
        "### Create the Probability density function\n",
        "x = np.linspace(mu - 5*sigma, mu + 5*sigma, 20)\n",
        "ax = sns.lineplot(x, stats.norm.pdf(x, mu, sigma))\n",
        "# ax.axvline(35,c=\"b\", linewidth = 3) #add a line to the graph\n",
        "part = np.arange(35,40,1)\n",
        "ax.fill_between(part,stats.norm.pdf(part, mu, sigma),)\n",
        "plt.show()\n",
        "print(df.describe())"
      ],
      "execution_count": null,
      "outputs": [
        {
          "output_type": "display_data",
          "data": {
            "image/png": "[encoded data removed]",
            "text/plain": [
              "<Figure size 432x288 with 1 Axes>"
            ]
          },
          "metadata": {
            "tags": [],
            "needs_background": "light"
          }
        },
        {
          "output_type": "stream",
          "text": [
            "              year  treatment\n",
            "count     2.000000   2.000000\n",
            "mean   2018.500000   2.000000\n",
            "std       0.707107   1.414214\n",
            "min    2018.000000   1.000000\n",
            "25%    2018.250000   1.500000\n",
            "50%    2018.500000   2.000000\n",
            "75%    2018.750000   2.500000\n",
            "max    2019.000000   3.000000\n"
          ],
          "name": "stdout"
        }
      ]
    },
    {
      "cell_type": "code",
      "metadata": {
        "id": "pm4SR43-i61-",
        "colab_type": "code",
        "colab": {
          "base_uri": "https://localhost:8080/",
          "height": 142
        },
        "outputId": "1ddc16f1-1922-42b2-b241-c099b5c70d0b"
      },
      "source": [
        "from sklearn.naive_bayes import GaussianNB\n",
        "gnb = GaussianNB()\n",
        "import  pandas as pd\n",
        "data={\"Type\":[\"Banana\",\"Orange\",\"Other\"],\"Long\":[400,0,100],\"Not Long\":[100,300,100]\n",
        " ,\"Sweet\":[350,150,150],\"Not Sweet\":[150,150,50],\"Yellow\":[450,300,50],\"Not Yellow\":[50,0,150]}\n",
        "\t\t\t\t\t\n",
        "\n",
        "df = pd.DataFrame(data)\n",
        "\n",
        "train_feature_keys = list(df.keys())\n",
        "train_feature_keys.remove(\"Type\")\n",
        "train_label_y_key =\"Type\"\n",
        "x_train = df[train_feature_keys]\n",
        "y_train = df[train_label_y_key]\n",
        "traing_model = gnb.fit(x_train, y_train)\n",
        "\n",
        "train_feature_keys = list(df.keys())\n",
        "\n"
      ],
      "execution_count": null,
      "outputs": [
        {
          "output_type": "execute_result",
          "data": {
            "text/html": [
              "<div>\n",
              "<style scoped>\n",
              "    .dataframe tbody tr th:only-of-type {\n",
              "        vertical-align: middle;\n",
              "    }\n",
              "\n",
              "    .dataframe tbody tr th {\n",
              "        vertical-align: top;\n",
              "    }\n",
              "\n",
              "    .dataframe thead th {\n",
              "        text-align: right;\n",
              "    }\n",
              "</style>\n",
              "<table border=\"1\" class=\"dataframe\">\n",
              "  <thead>\n",
              "    <tr style=\"text-align: right;\">\n",
              "      <th></th>\n",
              "      <th>Type</th>\n",
              "      <th>Long</th>\n",
              "      <th>Not Long</th>\n",
              "      <th>Sweet</th>\n",
              "      <th>Not Sweet</th>\n",
              "      <th>Yellow</th>\n",
              "      <th>Not Yellow</th>\n",
              "    </tr>\n",
              "  </thead>\n",
              "  <tbody>\n",
              "    <tr>\n",
              "      <th>0</th>\n",
              "      <td>Banana</td>\n",
              "      <td>400</td>\n",
              "      <td>100</td>\n",
              "      <td>350</td>\n",
              "      <td>150</td>\n",
              "      <td>450</td>\n",
              "      <td>50</td>\n",
              "    </tr>\n",
              "    <tr>\n",
              "      <th>1</th>\n",
              "      <td>Orange</td>\n",
              "      <td>0</td>\n",
              "      <td>300</td>\n",
              "      <td>150</td>\n",
              "      <td>150</td>\n",
              "      <td>300</td>\n",
              "      <td>0</td>\n",
              "    </tr>\n",
              "    <tr>\n",
              "      <th>2</th>\n",
              "      <td>Other</td>\n",
              "      <td>100</td>\n",
              "      <td>100</td>\n",
              "      <td>150</td>\n",
              "      <td>50</td>\n",
              "      <td>50</td>\n",
              "      <td>150</td>\n",
              "    </tr>\n",
              "  </tbody>\n",
              "</table>\n",
              "</div>"
            ],
            "text/plain": [
              "     Type  Long  Not Long  Sweet  Not Sweet  Yellow  Not Yellow\n",
              "0  Banana   400       100    350        150     450          50\n",
              "1  Orange     0       300    150        150     300           0\n",
              "2   Other   100       100    150         50      50         150"
            ]
          },
          "metadata": {
            "tags": []
          },
          "execution_count": 7
        }
      ]
    },
    {
      "cell_type": "markdown",
      "metadata": {
        "id": "mKZnBIjUCIJU",
        "colab_type": "text"
      },
      "source": [
        "# K-Mean example"
      ]
    },
    {
      "cell_type": "markdown",
      "metadata": {
        "id": "IeWTqroRir8t",
        "colab_type": "text"
      },
      "source": [
        "## K-Mean with data example"
      ]
    },
    {
      "cell_type": "code",
      "metadata": {
        "id": "H-CiLThuCL0j",
        "colab_type": "code",
        "colab": {
          "base_uri": "https://localhost:8080/",
          "height": 265
        },
        "outputId": "e07c6cb7-5305-47a4-fc5c-96a7cefe302e"
      },
      "source": [
        "from sklearn.cluster import KMeans\n",
        "import numpy as np\n",
        "import pandas as pd \n",
        "from IPython.display import display\n",
        "import seaborn as sns\n",
        "import matplotlib.pyplot as plt\n",
        "'#1.Step: Define the data'\n",
        "X = np.array([[1,4],\n",
        "              [1.50,5],\n",
        "              [1.7,2],\n",
        "              [1.3,3],\n",
        "              [3,6],\n",
        "              [3.5,7],\n",
        "              [3.7,8],\n",
        "              [3.3,5]\n",
        "              ])\n",
        "\n",
        "'#2.Step: Convert to df and display the data'\n",
        "df = pd.DataFrame(data=X,columns=[\"x\",\"y\"])\n",
        "# display(df)\n",
        "'#3.Step: Create model and fit it to the data'\n",
        "kmeans = KMeans(n_clusters=2, random_state=1,).fit(X)\n",
        "'#4.Step: Predict label for each data point'\n",
        "df[\"y_predict\"] = kmeans.labels_\n",
        "'#5.1.Step: Display the result of the prediction in a scatter plot'\n",
        "plt.grid(True)\n",
        "\n",
        "plt.scatter(x=df[\"x\"],y=df[\"y\"],c=df[\"y_predict\"], cmap='viridis')\n",
        "'#5.2.Step: Add the cluster center to the scatter plot'\n",
        "centers = kmeans.cluster_centers_\n",
        "color = np.arange(len(kmeans.cluster_centers_))\n",
        "\n",
        "ax = plt.scatter(centers[:, 0], centers[:, 1], s=200, c=color, alpha=0.7,cmap='viridis')\n",
        "\n",
        "for center in kmeans.cluster_centers_:\n",
        "  plt.text(center[0],center[1],f'{center[0]} | {center[1]}')"
      ],
      "execution_count": null,
      "outputs": [
        {
          "output_type": "display_data",
          "data": {
            "image/png": "[encoded data removed]",
            "text/plain": [
              "<Figure size 432x288 with 1 Axes>"
            ]
          },
          "metadata": {
            "tags": [],
            "needs_background": "light"
          }
        }
      ]
    },
    {
      "cell_type": "markdown",
      "metadata": {
        "id": "3v-178IAi0WU",
        "colab_type": "text"
      },
      "source": [
        "## 2. K-Mean with generated data"
      ]
    },
    {
      "cell_type": "code",
      "metadata": {
        "id": "grf6CF_cGz37",
        "colab_type": "code",
        "colab": {
          "base_uri": "https://localhost:8080/"
        },
        "outputId": "15a1bbd9-5943-4ea8-c31c-13cbc7a2a8c8"
      },
      "source": [
        "from sklearn.datasets.samples_generator import make_blobs\n",
        "import matplotlib.pyplot as plt\n",
        "from sklearn.cluster import KMeans\n",
        "from sklearn.metrics import accuracy_score\n",
        "import pandas as pd\n",
        "import numpy as np\n",
        "'#1.Step: Create data with sklearn'\n",
        "x, y_true = make_blobs(n_samples=300, centers=3,\n",
        "                       cluster_std=0.3, random_state=0)\n",
        "'#2.Step: Convert to df'\n",
        "df= pd.DataFrame({\"x1\":list(x[:,0]),\"x2\":list(x[:,1]),\"y_true\":list(y_true)})\n",
        "'#3.Step: Display the data'\n",
        "plt.title(\"Real clusters\")\n",
        "plt.scatter(df[\"x1\"],df[\"x2\"],c=df[\"y_true\"], s=50, cmap='viridis');\n",
        "plt.show()\n",
        "'#4.Step: Create a model'\n",
        "'#4.1.Step: Create on init. values'\n",
        "init_own = np.array([[-1.5,3],[1,4],[2,1]])\n",
        "kmeans = KMeans(n_clusters=3,init=init_own,n_init=10).fit(df[[\"x1\",\"x2\"]])\n",
        "df[\"y_pred\"] = kmeans.labels_\n",
        "plt.scatter(df[\"x1\"],df[\"x2\"],c=df[\"y_pred\"], s=50, cmap='winter');\n",
        "plt.title(\"Predicted clusters\") \n",
        "plt.show()\n"
      ],
      "execution_count": null,
      "outputs": [
        {
          "output_type": "display_data",
          "data": {
            "image/png": "[encoded data removed]",
            "text/plain": [
              "<Figure size 432x288 with 1 Axes>"
            ]
          },
          "metadata": {
            "tags": [],
            "needs_background": "light"
          }
        },
        {
          "output_type": "stream",
          "text": [
            "/usr/local/lib/python3.6/dist-packages/ipykernel_launcher.py:19: RuntimeWarning: Explicit initial center position passed: performing only one init in k-means instead of n_init=10\n"
          ],
          "name": "stderr"
        },
        {
          "output_type": "display_data",
          "data": {
            "image/png": "[encoded data removed]",
            "text/plain": [
              "<Figure size 432x288 with 1 Axes>"
            ]
          },
          "metadata": {
            "tags": [],
            "needs_background": "light"
          }
        }
      ]
    },
    {
      "cell_type": "markdown",
      "metadata": {
        "id": "k5dgRk0DYV6V",
        "colab_type": "text"
      },
      "source": [
        "# Visualization"
      ]
    },
    {
      "cell_type": "markdown",
      "metadata": {
        "id": "dpUd8YoDYeA_",
        "colab_type": "text"
      },
      "source": [
        "## Plot a gray scale image with the excat\n"
      ]
    },
    {
      "cell_type": "code",
      "metadata": {
        "id": "TXuN-yDAYw7l",
        "colab_type": "code",
        "colab": {
          "base_uri": "https://localhost:8080/",
          "height": 951
        },
        "outputId": "bda4db7d-011f-4f76-b19f-a94fb85463a4"
      },
      "source": [
        "\n",
        "from torchvision import datasets\n",
        "import torchvision.transforms as transforms\n",
        "import torch\n",
        "import numpy as np\n",
        "# number of subprocesses to use for data loading\n",
        "num_workers = 0\n",
        "# how many samples per batch to load\n",
        "batch_size = 20\n",
        "\n",
        "# convert data to torch.FloatTensor\n",
        "transform = transforms.ToTensor()\n",
        "\n",
        "# choose the training and test datasets\n",
        "train_data = datasets.MNIST(root='data', train=True,\n",
        "                                   download=True, transform=transform)\n",
        "test_data = datasets.MNIST(root='data', train=False,\n",
        "                                  download=True, transform=transform)\n",
        "\n",
        "# prepare data loaders\n",
        "train_loader = torch.utils.data.DataLoader(train_data, batch_size=batch_size,\n",
        "    num_workers=num_workers)\n",
        "test_loader = torch.utils.data.DataLoader(test_data, batch_size=batch_size, \n",
        "    num_workers=num_workers)\n",
        "import matplotlib.pyplot as plt\n",
        "%matplotlib inline\n",
        "    \n",
        "# obtain one batch of training images\n",
        "dataiter = iter(train_loader)\n",
        "images, labels = dataiter.next()\n",
        "images = images.numpy()\n",
        "\n",
        "# plot the images in the batch, along with the corresponding labels\n",
        "fig = plt.figure(figsize=(25, 4))\n",
        "for idx in np.arange(20):\n",
        "    ax = fig.add_subplot(2, 20/2, idx+1, xticks=[], yticks=[])\n",
        "    ax.imshow(np.squeeze(images[idx]), cmap='gray')\n",
        "    # print out the correct label for each image\n",
        "    # .item() gets the value contained in a Tensor\n",
        "    ax.set_title(str(labels[idx].item()))\n",
        "    \n",
        "img = np.squeeze(images[1])\n",
        "\n",
        "fig = plt.figure(figsize = (12,12)) \n",
        "ax = fig.add_subplot(111)\n",
        "ax.imshow(img, cmap='gray')\n",
        "width, height = img.shape\n",
        "thresh = img.max()/2.5\n",
        "for x in range(width):\n",
        "    for y in range(height):\n",
        "        val = round(img[x][y],2) if img[x][y] !=0 else 0\n",
        "        ax.annotate(str(val), xy=(y,x),\n",
        "                    horizontalalignment='center',\n",
        "                    verticalalignment='center',\n",
        "                    color='white' if img[x][y]<thresh else 'black')"
      ],
      "execution_count": 16,
      "outputs": [
        {
          "output_type": "display_data",
          "data": {
            "image/png": "[encoded data removed]",
            "text/plain": [
              "<Figure size 1800x288 with 20 Axes>"
            ]
          },
          "metadata": {
            "tags": []
          }
        },
        {
          "output_type": "display_data",
          "data": {
            "image/png": "[encoded data removed]",
            "text/plain": [
              "<Figure size 864x864 with 1 Axes>"
            ]
          },
          "metadata": {
            "tags": [],
            "needs_background": "light"
          }
        }
      ]
    },
    {
      "cell_type": "markdown",
      "metadata": {
        "id": "m9OFjSu9qx0z",
        "colab_type": "text"
      },
      "source": [
        "# ROC Curve\n",
        "\n",
        "\n"
      ]
    },
    {
      "cell_type": "code",
      "metadata": {
        "id": "7JlvSDZJrPj9",
        "colab_type": "code",
        "colab": {}
      },
      "source": [
        "#Helper functions\n",
        "def calculate_recall(tp,fn):\n",
        "  return tp/(tp+fn)\n",
        "\n",
        "def calculate_spec(tn,fp):\n",
        "  return tn/(tn+fp)"
      ],
      "execution_count": null,
      "outputs": []
    },
    {
      "cell_type": "code",
      "metadata": {
        "id": "s63eSNrzPbia",
        "colab_type": "code",
        "colab": {
          "base_uri": "https://localhost:8080/",
          "height": 103
        },
        "outputId": "abbde7f8-77c8-4d04-f4f4-44e3e55a38d7"
      },
      "source": [
        "from sklearn.metrics import confusion_matrix\n",
        "import numpy as np\n",
        "\n",
        "#1.Step: Define the data \n",
        "y_true = [0, 0, 1, 0, 0, 1, 1, 1]\n",
        "y_pred_model_1 = np.array([0.1,0.15,0.2,0.4,0.6,0.8,0.7,0.8])\n",
        "y_pred_model_2 = np.array([0.9,0.6,0.7,0.4,0.6,0.8,0.7,0.8])\n",
        "\n",
        "\n",
        "#for differnt thresholds:\n",
        "roc_value = {\"threshold\": np.arange(0,1,0.2),\"model\":{}}\n",
        "for y_model,color_graph,model_name in zip([y_pred_model_1,y_pred_model_2],\n",
        "                                          [\"coral\",\"green\"]\n",
        "                                          ,[\"model_1\",\"model_2\"]):\n",
        "  roc_value[\"model\"][model_name] ={\"1-spec\":[],\"recall\":[]}\n",
        "  for threshold in roc_value[\"threshold\"]:\n",
        "    #Create a copy of the numpy array\n",
        "    y_pred_thres = y_model.copy()\n",
        "    y_pred_thres[y_model>=threshold]=1\n",
        "    y_pred_thres[y_pred_thres<threshold]=0\n",
        "\n",
        "    tn, fp, fn, tp = confusion_matrix(y_true,y_pred_thres).ravel()\n",
        "    roc_value[\"model\"][model_name][\"1-spec\"].append(1-calculate_spec(tn, fp))\n",
        "    roc_value[\"model\"][model_name][\"recall\"].append(calculate_recall(tp,fn))\n"
      ],
      "execution_count": null,
      "outputs": [
        {
          "output_type": "execute_result",
          "data": {
            "text/plain": [
              "{'model': {'model_1': {'1-spec': [1.0, 0.5, 0.5, 0.0, 0.0],\n",
              "   'recall': [1.0, 1.0, 0.75, 0.75, 0.5]},\n",
              "  'model_2': {'1-spec': [1.0, 1.0, 1.0, 0.25, 0.25],\n",
              "   'recall': [1.0, 1.0, 1.0, 1.0, 0.5]}},\n",
              " 'threshold': array([0. , 0.2, 0.4, 0.6, 0.8])}"
            ]
          },
          "metadata": {
            "tags": []
          },
          "execution_count": 11
        }
      ]
    },
    {
      "cell_type": "code",
      "metadata": {
        "id": "UHQQVHO8tV4n",
        "colab_type": "code",
        "colab": {
          "base_uri": "https://localhost:8080/",
          "height": 265
        },
        "outputId": "dcb3cbb9-a8f4-44df-dfbd-064151bd6b1b"
      },
      "source": [
        "import matplotlib.pyplot as plt\n",
        "import seaborn as sns \n",
        "from sklearn import metrics\n",
        "#Create list for legend\n",
        "roc_legend = []\n",
        "# Create Baseline\n",
        "x_baseline = np.arange(0,2)\n",
        "y_baseline = np.arange(0,2)\n",
        "roc_legend.append(\"Baseline\")\n",
        "ax = sns.lineplot(x=x_baseline, y=y_baseline)\n",
        "\n",
        "\n",
        "\n",
        "for y_model,color_graph,model_name in zip([roc_value[\"model\"][\"model_1\"],roc_value[\"model\"][\"model_2\"]],\n",
        "                                          [\"coral\",\"green\"]\n",
        "                                          ,[\"model_1\",\"model_2\"]):\n",
        "\n",
        "  fpr, tpr = y_model[\"1-spec\"],y_model[\"recall\"]\n",
        "\n",
        "\n",
        "  plt.plot(fpr,tpr, '-o',color=color_graph,markersize=12,)\n",
        "  plt.fill_between(fpr,tpr, facecolor=color_graph, alpha=0.05)\n",
        "\n",
        "  # lines is a list of plt.Line2D instances\n",
        "  auc_value = metrics.auc(fpr, tpr)\n",
        "  roc_legend.append(f'{model_name} - AUC: {auc_value}')\n",
        "plt.legend(roc_legend)\n",
        "plt.show()\n"
      ],
      "execution_count": null,
      "outputs": [
        {
          "output_type": "display_data",
          "data": {
            "image/png": "[encoded data removed]",
            "text/plain": [
              "<Figure size 432x288 with 1 Axes>"
            ]
          },
          "metadata": {
            "tags": [],
            "needs_background": "light"
          }
        }
      ]
    },
    {
      "cell_type": "markdown",
      "metadata": {
        "id": "eowxOfIIWkIy",
        "colab_type": "text"
      },
      "source": [
        "Confusion Matrix - Multiclass\n"
      ]
    },
    {
      "cell_type": "code",
      "metadata": {
        "id": "jBf0gQHoWxyX",
        "colab_type": "code",
        "colab": {}
      },
      "source": [
        "import numpy as np\n",
        "from sklearn.metrics import multilabel_confusion_matrix\n",
        "y_true = np.array([[1, 0, 1],\n",
        "                   [0, 1, 0]])\n",
        "y_pred = np.array([[1, 0, 0],\n",
        "                   [0, 1, 1]])\n",
        "multilabel_confusion_matrix(y_true, y_pred)"
      ],
      "execution_count": null,
      "outputs": []
    },
    {
      "cell_type": "code",
      "metadata": {
        "id": "cT3keyMJXmAn",
        "colab_type": "code",
        "colab": {
          "base_uri": "https://localhost:8080/",
          "height": 34
        },
        "outputId": "0153ae6f-5ff8-4134-d447-a30954ab238d"
      },
      "source": [
        "def create_prediction(x,y,z):\n",
        "  \"\"\"\n",
        "  Creates a list with n classes\n",
        "  \"\"\"\n",
        "  y_predict = []\n",
        "  for j,times_n in enumerate([x,y,z]):\n",
        "    for i in range (0,times_n):\n",
        "      y_predict.append(j)\n",
        "  y_predict\n",
        "  print(y_predict)"
      ],
      "execution_count": null,
      "outputs": [
        {
          "output_type": "execute_result",
          "data": {
            "text/plain": [
              "[0, 1, 1, 2, 2, 2, 2, 2, 2]"
            ]
          },
          "metadata": {
            "tags": []
          },
          "execution_count": 11
        }
      ]
    },
    {
      "cell_type": "code",
      "metadata": {
        "id": "WkOMDH5bWnOA",
        "colab_type": "code",
        "colab": {}
      },
      "source": [
        "from sklearn.metrics import multilabel_confusion_matrix\n",
        "import numpy as np\n",
        "\n",
        "y_true = np.array([0, 0, 0, 0, 0, 0, 0, 0, 0, 0, 0, 0, 0, 1, 1, 1, 2, 2, 2, 2, 2, 2, 2, 2, 2])\n",
        "y_predict = np.array([0, 0, 0, 0, 1, 1, 1, 1, 1, 1, 2, 2, 2, 0, 1, 1,0, 1, 1, 2, 2, 2, 2, 2, 2])"
      ],
      "execution_count": null,
      "outputs": []
    },
    {
      "cell_type": "markdown",
      "metadata": {
        "id": "k_sspFT5oYCK",
        "colab_type": "text"
      },
      "source": [
        "Function Optimization"
      ]
    },
    {
      "cell_type": "code",
      "metadata": {
        "id": "9f82qxYHuq76",
        "colab_type": "code",
        "colab": {
          "base_uri": "https://localhost:8080/",
          "height": 104
        },
        "outputId": "400c88e5-ae8b-4108-d294-168fe365c6ef"
      },
      "source": [
        "from scipy import optimize\n",
        "\n",
        "def cost_f(x):\n",
        "   return x**2\n",
        "\n",
        "optimize.minimize_scalar(cost_f)"
      ],
      "execution_count": null,
      "outputs": [
        {
          "output_type": "execute_result",
          "data": {
            "text/plain": [
              "     fun: 0.0\n",
              "    nfev: 8\n",
              "     nit: 4\n",
              " success: True\n",
              "       x: 0.0"
            ]
          },
          "metadata": {
            "tags": []
          },
          "execution_count": 6
        }
      ]
    },
    {
      "cell_type": "markdown",
      "metadata": {
        "id": "AcWzE7Ncpk7v",
        "colab_type": "text"
      },
      "source": [
        "# PyTorch"
      ]
    },
    {
      "cell_type": "markdown",
      "metadata": {
        "id": "L01W7yoXUztk",
        "colab_type": "text"
      },
      "source": [
        "## Multilayer perceptron model\n",
        "\n",
        "![alt text](https://drive.google.com/uc?id=1oug4yCqqmCX7k8kb3yY3ZMee3DF28_b_)"
      ]
    },
    {
      "cell_type": "code",
      "metadata": {
        "id": "ZYgJB2q3U16A",
        "colab_type": "code",
        "colab": {}
      },
      "source": [
        "\n",
        "import torch\n",
        "from torch import nn\n",
        "import torch.nn.functional as F\n",
        "from torchvision import datasets, transforms\n",
        "from torch import optim\n",
        "################ Helper function################\n",
        "def view_classify(img, ps, version=\"MNIST\"):\n",
        "    ''' Function for viewing an image and it's predicted classes.\n",
        "    '''\n",
        "    ps = ps.data.numpy().squeeze()\n",
        "\n",
        "    fig, (ax1, ax2) = plt.subplots(figsize=(6,9), ncols=2)\n",
        "    ax1.imshow(img.resize_(1, 28, 28).numpy().squeeze())\n",
        "    ax1.axis('off')\n",
        "    ax2.barh(np.arange(10), ps)\n",
        "    ax2.set_aspect(0.1)\n",
        "    ax2.set_yticks(np.arange(10))\n",
        "    if version == \"MNIST\":\n",
        "        ax2.set_yticklabels(np.arange(10))\n",
        "    elif version == \"Fashion\":\n",
        "        ax2.set_yticklabels(['T-shirt/top',\n",
        "                            'Trouser',\n",
        "                            'Pullover',\n",
        "                            'Dress',\n",
        "                            'Coat',\n",
        "                            'Sandal',\n",
        "                            'Shirt',\n",
        "                            'Sneaker',\n",
        "                            'Bag',\n",
        "                            'Ankle Boot'], size='small');\n",
        "    ax2.set_title('Class Probability')\n",
        "    ax2.set_xlim(0, 1.1)\n",
        "\n",
        "    plt.tight_layout()\n",
        "\n",
        "####################################\n",
        "# Define a transform to normalize the data\n",
        "transform = transforms.Compose([transforms.ToTensor(),\n",
        "                                transforms.Normalize((0.5, 0.5, 0.5), (0.5, 0.5, 0.5)),\n",
        "                              ])\n",
        "# Download and load the training data\n",
        "trainset = datasets.MNIST('~/.pytorch/MNIST_data/', download=True, train=True, transform=transform)\n",
        "trainloader = torch.utils.data.DataLoader(trainset, batch_size=64, shuffle=True)\n",
        "\n",
        "# dataloaders\n",
        "trainloader = torch.utils.data.DataLoader(trainset, batch_size=4,\n",
        "                                        shuffle=True, num_workers=2)\n",
        "\n",
        "\n",
        "testloader = torch.utils.data.DataLoader(testset, batch_size=4,\n",
        "                                        shuffle=False, num_workers=2)\n"
      ],
      "execution_count": null,
      "outputs": []
    },
    {
      "cell_type": "code",
      "metadata": {
        "id": "hdb06qkVcJvr",
        "colab_type": "code",
        "colab": {
          "base_uri": "https://localhost:8080/",
          "height": 697,
          "referenced_widgets": [
            "973479e5d8b241db9ca7338080b7515d",
            "0adf5d6c5a6b484bbdc6a649aa85bd07",
            "20f1305e44904a8eaf030fbf192641d7",
            "862b7fd1bc23449f8017b0724a0b0187",
            "8df4f98379fc4d9ba0333700fd2c897d",
            "dc3cbcf4363e489ea789b400a2835ad2",
            "e5def053a4f74d62af52efc7acb392fd",
            "c83631070725474f8c26ded4fe31e07d",
            "cb2256b5d06743f68084dcc580d5035c",
            "2fa6ab503e744963b203b6f4343e59df",
            "bc5ad8a780994ea49eab27baca1589a7",
            "09b130fcfa414b938f2c34d3b74bd10c",
            "135fea8b6cd34bc8b817c9203c43e1aa",
            "bae7707163b84bdbb554cdd774cdb174",
            "146430e1a7c14d40af44e23d6b7038b2",
            "2dfc760e044a43dca31750ee54ce0356",
            "e92260e0d54048eaac40a56bd8586314",
            "7b5050408bb942d8b1d1c23a651a7a46",
            "cfca4f6be44b458eb740e2bd4ca7dcf5",
            "84476647db8d4e23b5366a1bdebc1c5a",
            "0e24532aafd14eaf9838c8c8bad621c7",
            "bd251d52af574d3ab284a66d97908ae1",
            "89d0f7e8bb654d1e85edf1e5a38e66e7",
            "4d45fb00f27d4cfb83ba778f5c4dbe90",
            "67c6956fc5bb4589ab9938627713e2b0",
            "937cbcba2c3741eda8f6d730a55c596f",
            "c69048f53366474aa8dadc3d6cbfa2ca",
            "5d1e39de5c4d411b902c686c4433e3f5",
            "f0fb5921789c4e1ebb746644a4a466f5",
            "1ec97a317b5347098fe395866f39c54c",
            "f4668f77f305483083b3db88c9567ec0",
            "8d6f73d38c0e4033982298ca9c450bad"
          ]
        },
        "outputId": "603d9050-c2a9-4e93-ab1c-082b0a28fef0"
      },
      "source": [
        "# imports\n",
        "import matplotlib.pyplot as plt\n",
        "import numpy as np\n",
        "\n",
        "import torch\n",
        "import torchvision\n",
        "import torchvision.transforms as transforms\n",
        "\n",
        "import torch.nn as nn\n",
        "import torch.nn.functional as F\n",
        "import torch.optim as optim\n",
        "################ Helper function################\n",
        "def view_classify(img, ps, version=\"MNIST\"):\n",
        "    ''' Function for viewing an image and it's predicted classes.\n",
        "    '''\n",
        "    ps = ps.data.numpy().squeeze()\n",
        "\n",
        "    fig, (ax1, ax2) = plt.subplots(figsize=(6,9), ncols=2)\n",
        "    ax1.imshow(img.resize_(1, 28, 28).numpy().squeeze())\n",
        "    ax1.axis('off')\n",
        "    ax2.barh(np.arange(10), ps)\n",
        "    ax2.set_aspect(0.1)\n",
        "    ax2.set_yticks(np.arange(10))\n",
        "    if version == \"MNIST\":\n",
        "        ax2.set_yticklabels(np.arange(10))\n",
        "    elif version == \"Fashion\":\n",
        "        ax2.set_yticklabels(['T-shirt/top',\n",
        "                            'Trouser',\n",
        "                            'Pullover',\n",
        "                            'Dress',\n",
        "                            'Coat',\n",
        "                            'Sandal',\n",
        "                            'Shirt',\n",
        "                            'Sneaker',\n",
        "                            'Bag',\n",
        "                            'Ankle Boot'], size='small');\n",
        "    ax2.set_title('Class Probability')\n",
        "    ax2.set_xlim(0, 1.1)\n",
        "\n",
        "    plt.tight_layout()\n",
        "\n",
        "####################################\n",
        "# transforms\n",
        "transform = transforms.Compose(\n",
        "    [transforms.ToTensor(),\n",
        "    transforms.Normalize((0.5,), (0.5,))])\n",
        "\n",
        "# datasets\n",
        "trainset = torchvision.datasets.MNIST('./data',\n",
        "    download=True,\n",
        "    train=True,\n",
        "    transform=transform)\n",
        "testset = torchvision.datasets.MNIST('./data',\n",
        "    download=True,\n",
        "    train=False,\n",
        "    transform=transform)\n",
        "\n",
        "# dataloaders\n",
        "trainloader = torch.utils.data.DataLoader(trainset, batch_size=4,\n",
        "                                        shuffle=True, num_workers=2)\n",
        "\n",
        "\n",
        "testloader = torch.utils.data.DataLoader(testset, batch_size=4,\n",
        "                                        shuffle=False, num_workers=2)\n",
        "\n",
        "\n",
        "%matplotlib inline\n",
        "import helper\n",
        "\n",
        "images, labels = next(iter(trainloader))\n",
        "\n",
        "img = images[0].view(1, 784)\n",
        "plt.imshow(images[1].numpy().squeeze(), cmap='Greys_r');"
      ],
      "execution_count": 1,
      "outputs": [
        {
          "output_type": "stream",
          "text": [
            "Downloading http://yann.lecun.com/exdb/mnist/train-images-idx3-ubyte.gz to ./data/MNIST/raw/train-images-idx3-ubyte.gz\n"
          ],
          "name": "stdout"
        },
        {
          "output_type": "display_data",
          "data": {
            "application/vnd.jupyter.widget-view+json": {
              "model_id": "973479e5d8b241db9ca7338080b7515d",
              "version_minor": 0,
              "version_major": 2
            },
            "text/plain": [
              "HBox(children=(FloatProgress(value=1.0, bar_style='info', max=1.0), HTML(value='')))"
            ]
          },
          "metadata": {
            "tags": []
          }
        },
        {
          "output_type": "stream",
          "text": [
            "Extracting ./data/MNIST/raw/train-images-idx3-ubyte.gz to ./data/MNIST/raw\n",
            "Downloading http://yann.lecun.com/exdb/mnist/train-labels-idx1-ubyte.gz to ./data/MNIST/raw/train-labels-idx1-ubyte.gz\n"
          ],
          "name": "stdout"
        },
        {
          "output_type": "display_data",
          "data": {
            "application/vnd.jupyter.widget-view+json": {
              "model_id": "cb2256b5d06743f68084dcc580d5035c",
              "version_minor": 0,
              "version_major": 2
            },
            "text/plain": [
              "HBox(children=(FloatProgress(value=1.0, bar_style='info', max=1.0), HTML(value='')))"
            ]
          },
          "metadata": {
            "tags": []
          }
        },
        {
          "output_type": "stream",
          "text": [
            "Extracting ./data/MNIST/raw/train-labels-idx1-ubyte.gz to ./data/MNIST/raw\n",
            "Downloading http://yann.lecun.com/exdb/mnist/t10k-images-idx3-ubyte.gz to ./data/MNIST/raw/t10k-images-idx3-ubyte.gz\n"
          ],
          "name": "stdout"
        },
        {
          "output_type": "display_data",
          "data": {
            "application/vnd.jupyter.widget-view+json": {
              "model_id": "e92260e0d54048eaac40a56bd8586314",
              "version_minor": 0,
              "version_major": 2
            },
            "text/plain": [
              "HBox(children=(FloatProgress(value=1.0, bar_style='info', max=1.0), HTML(value='')))"
            ]
          },
          "metadata": {
            "tags": []
          }
        },
        {
          "output_type": "stream",
          "text": [
            "\n",
            "\n",
            "Extracting ./data/MNIST/raw/t10k-images-idx3-ubyte.gz to ./data/MNIST/raw\n",
            "Downloading http://yann.lecun.com/exdb/mnist/t10k-labels-idx1-ubyte.gz to ./data/MNIST/raw/t10k-labels-idx1-ubyte.gz\n"
          ],
          "name": "stdout"
        },
        {
          "output_type": "display_data",
          "data": {
            "application/vnd.jupyter.widget-view+json": {
              "model_id": "67c6956fc5bb4589ab9938627713e2b0",
              "version_minor": 0,
              "version_major": 2
            },
            "text/plain": [
              "HBox(children=(FloatProgress(value=1.0, bar_style='info', max=1.0), HTML(value='')))"
            ]
          },
          "metadata": {
            "tags": []
          }
        },
        {
          "output_type": "stream",
          "text": [
            "Extracting ./data/MNIST/raw/t10k-labels-idx1-ubyte.gz to ./data/MNIST/raw\n",
            "Processing...\n",
            "Done!\n",
            "\n"
          ],
          "name": "stdout"
        },
        {
          "output_type": "stream",
          "text": [
            "/usr/local/lib/python3.6/dist-packages/torchvision/datasets/mnist.py:469: UserWarning: The given NumPy array is not writeable, and PyTorch does not support non-writeable tensors. This means you can write to the underlying (supposedly non-writeable) NumPy array using the tensor. You may want to copy the array to protect its data or make it writeable before converting it to a tensor. This type of warning will be suppressed for the rest of this program. (Triggered internally at  /pytorch/torch/csrc/utils/tensor_numpy.cpp:141.)\n",
            "  return torch.from_numpy(parsed.astype(m[2], copy=False)).view(*s)\n"
          ],
          "name": "stderr"
        },
        {
          "output_type": "stream",
          "text": [
            "\n"
          ],
          "name": "stdout"
        },
        {
          "output_type": "display_data",
          "data": {
            "image/png": "[encoded data removed]",
            "text/plain": [
              "<Figure size 432x288 with 1 Axes>"
            ]
          },
          "metadata": {
            "tags": [],
            "needs_background": "light"
          }
        }
      ]
    },
    {
      "cell_type": "code",
      "metadata": {
        "id": "gjx-cQt5Z2Eh",
        "colab_type": "code",
        "colab": {
          "base_uri": "https://localhost:8080/",
          "height": 537
        },
        "outputId": "bf34ecf4-1e27-47e5-fc6a-beb06dfde222"
      },
      "source": [
        "# Hyperparameters for our network\n",
        "input_size = 784\n",
        "hidden_sizes = [128, 64]\n",
        "output_size = 10\n",
        "\n",
        "# Build Network - Option 1\n",
        "model = nn.Sequential(nn.Linear(784, 128),\n",
        "                      nn.ReLU(),\n",
        "                      nn.Linear(128, 64),\n",
        "                      nn.ReLU(),\n",
        "                      nn.Linear(64, 10),\n",
        "                      nn.LogSoftmax(dim=1))\n",
        "\n",
        "# Build a feed-forward network - Option 2 \n",
        "model = nn.Sequential(nn.Linear(input_size, hidden_sizes[0]),\n",
        "                      nn.ReLU(),\n",
        "                      nn.Linear(hidden_sizes[0], hidden_sizes[1]),\n",
        "                      nn.ReLU(),\n",
        "                      nn.Linear(hidden_sizes[1], output_size),\n",
        "                      nn.Softmax(dim=1))\n",
        "print(model)\n",
        "# Build a feed-forward network - Option 3\n",
        "\"\"\"\n",
        "#You can also pass in an OrderedDict to name the individual layers and operations, instead of using incremental integers. \n",
        "Note that dictionary keys must be unique, so each operation must have a different name.\n",
        "\"\"\"\n",
        "from collections import OrderedDict\n",
        "model = nn.Sequential(OrderedDict([\n",
        "                      ('fc1', nn.Linear(input_size, hidden_sizes[0])),\n",
        "                      ('relu1', nn.ReLU()),\n",
        "                      ('fc2', nn.Linear(hidden_sizes[0], hidden_sizes[1])),\n",
        "                      ('relu2', nn.ReLU()),\n",
        "                      ('output', nn.Linear(hidden_sizes[1], output_size)),\n",
        "                      ('softmax', nn.Softmax(dim=1))]))\n",
        "\n",
        "\n",
        "criterion = nn.NLLLoss()\n",
        "optimizer = optim.SGD(model.parameters(), lr=0.003)\n",
        "\n",
        "\n",
        "\n",
        "images, labels = next(iter(trainloader))\n",
        "\n",
        "img = images[0].view(1, 784)\n",
        "# Turn off gradients to speed up this part\n",
        "with torch.no_grad():\n",
        "    logps = model.forward(img)\n",
        "\n",
        "# Output of the network are logits, need to take softmax for probabilities\n",
        "ps = torch.exp(logps)\n",
        "print(\"\"\"\n",
        "Now we have 10 outputs for our network. We want to pass in an image to our network and <br>\n",
        "get out a probability distribution over the classes that tells us the likely class(es) the image belongs to. Something that looks like this:\n",
        "\"\"\")\n",
        "view_classify(img.view(1, 28, 28), ps)\n",
        "print(\"\"\"\n",
        "Here we see that the probability for each class is roughly the same. This is representing an untrained network, <br>\n",
        "it hasn't seen any data yet so it just returns a uniform distribution with equal probabilities for each class.\n",
        "\"\"\")"
      ],
      "execution_count": 2,
      "outputs": [
        {
          "output_type": "stream",
          "text": [
            "Sequential(\n",
            "  (0): Linear(in_features=784, out_features=128, bias=True)\n",
            "  (1): ReLU()\n",
            "  (2): Linear(in_features=128, out_features=64, bias=True)\n",
            "  (3): ReLU()\n",
            "  (4): Linear(in_features=64, out_features=10, bias=True)\n",
            "  (5): Softmax(dim=1)\n",
            ")\n",
            "\n",
            "Now we have 10 outputs for our network. We want to pass in an image to our network and <br>\n",
            "get out a probability distribution over the classes that tells us the likely class(es) the image belongs to. Something that looks like this:\n",
            "\n",
            "\n",
            "Here we see that the probability for each class is roughly the same. This is representing an untrained network, <br>\n",
            "it hasn't seen any data yet so it just returns a uniform distribution with equal probabilities for each class.\n",
            "\n"
          ],
          "name": "stdout"
        },
        {
          "output_type": "display_data",
          "data": {
            "image/png": "[encoded data removed]",
            "text/plain": [
              "<Figure size 432x648 with 2 Axes>"
            ]
          },
          "metadata": {
            "tags": [],
            "needs_background": "light"
          }
        }
      ]
    },
    {
      "cell_type": "code",
      "metadata": {
        "id": "jhWR-xSu5XyU",
        "colab_type": "code",
        "colab": {
          "base_uri": "https://localhost:8080/",
          "height": 34
        },
        "outputId": "55d28bd0-0ede-4e1d-ca42-0931ee339f3f"
      },
      "source": [
        "'Get the number of parameteres'\n",
        "sum(p.numel() for p in model.parameters())"
      ],
      "execution_count": 4,
      "outputs": [
        {
          "output_type": "execute_result",
          "data": {
            "text/plain": [
              "109386"
            ]
          },
          "metadata": {
            "tags": []
          },
          "execution_count": 4
        }
      ]
    },
    {
      "cell_type": "code",
      "metadata": {
        "id": "qKBj-tRedvY_",
        "colab_type": "code",
        "colab": {
          "base_uri": "https://localhost:8080/",
          "height": 342
        },
        "outputId": "c2242b7a-26c2-4063-dd62-54e424363967"
      },
      "source": [
        "# Training of the network\n",
        "epochs = 5\n",
        "for e in range(epochs):\n",
        "    running_loss = 0\n",
        "    for images, labels in trainloader:\n",
        "        # Flatten MNIST images into a 784 long vector\n",
        "        images = images.view(images.shape[0], -1)\n",
        "    \n",
        "        # Clear the gradients, do this because gradients are accumulated\n",
        "        optimizer.zero_grad()\n",
        "        # Forward pass, then backward pass, then update weights\n",
        "        output = model.forward(images)\n",
        "        # Calculate the loss with the logits and the labels\n",
        "        loss = criterion(output, labels)\n",
        "        loss.backward()\n",
        "        optimizer.step()\n",
        "        \n",
        "        running_loss += loss.item()\n",
        "    else:\n",
        "        print(f\"Training loss: {running_loss/len(trainloader)}\")\n",
        "        \n",
        "        \n",
        "%matplotlib inline\n",
        "import helper\n",
        "\n",
        "images, labels = next(iter(trainloader))\n",
        "\n",
        "img = images[0].view(1, 784)\n",
        "# Turn off gradients to speed up this part\n",
        "with torch.no_grad():\n",
        "    logps = model.forward(img)\n",
        "\n",
        "# Output of the network are logits, need to take softmax for probabilities\n",
        "ps = torch.exp(logps)\n",
        "view_classify(img.view(1, 28, 28), ps)"
      ],
      "execution_count": 5,
      "outputs": [
        {
          "output_type": "stream",
          "text": [
            "Training loss: -0.44254990926869603\n",
            "Training loss: -0.7592113407414044\n",
            "Training loss: -0.8114800686386067\n",
            "Training loss: -0.8227067342959936\n",
            "Training loss: -0.82998163342815\n"
          ],
          "name": "stdout"
        },
        {
          "output_type": "display_data",
          "data": {
            "image/png": "[encoded data removed]",
            "text/plain": [
              "<Figure size 432x648 with 2 Axes>"
            ]
          },
          "metadata": {
            "tags": [],
            "needs_background": "light"
          }
        }
      ]
    },
    {
      "cell_type": "markdown",
      "metadata": {
        "id": "enUshV1Npf_3",
        "colab_type": "text"
      },
      "source": [
        ""
      ]
    },
    {
      "cell_type": "code",
      "metadata": {
        "id": "2OxLSkUv5qyo",
        "colab_type": "code",
        "colab": {}
      },
      "source": [
        ""
      ],
      "execution_count": null,
      "outputs": []
    },
    {
      "cell_type": "markdown",
      "metadata": {
        "id": "QDx6lWnNqQjm",
        "colab_type": "text"
      },
      "source": [
        "## CNN"
      ]
    },
    {
      "cell_type": "markdown",
      "metadata": {
        "id": "UY6mGxrNugLX",
        "colab_type": "text"
      },
      "source": [
        "## Filter"
      ]
    },
    {
      "cell_type": "code",
      "metadata": {
        "id": "fkItSaD_uiXn",
        "colab_type": "code",
        "colab": {
          "base_uri": "https://localhost:8080/",
          "height": 304
        },
        "outputId": "6bc18370-0005-4fb5-f531-968833d84a9c"
      },
      "source": [
        "import matplotlib.pyplot as plt\n",
        "import matplotlib.image as mpimg\n",
        "\n",
        "import cv2\n",
        "import numpy as np\n",
        "\n",
        "%matplotlib inline\n",
        "\n",
        "from PIL import Image\n",
        "import requests\n",
        "from io import BytesIO\n",
        "\n",
        "url = \"https://picsum.photos/200/300\"\n",
        "response = requests.get(url)\n",
        "img = Image.open(BytesIO(response.content))\n",
        "#Convert to numpy\n",
        "image = np.array(img)\n",
        "\n",
        "# Read in the image\n",
        "\n",
        "plt.imshow(image)\n",
        "print(type(image))\n",
        "print(type(img))\n",
        "\n"
      ],
      "execution_count": 18,
      "outputs": [
        {
          "output_type": "stream",
          "text": [
            "<class 'numpy.ndarray'>\n",
            "<class 'PIL.JpegImagePlugin.JpegImageFile'>\n"
          ],
          "name": "stdout"
        },
        {
          "output_type": "display_data",
          "data": {
            "image/png": "[encoded data removed]",
            "text/plain": [
              "<Figure size 432x288 with 1 Axes>"
            ]
          },
          "metadata": {
            "tags": [],
            "needs_background": "light"
          }
        }
      ]
    },
    {
      "cell_type": "code",
      "metadata": {
        "id": "KTNLufzdvFNd",
        "colab_type": "code",
        "colab": {
          "base_uri": "https://localhost:8080/",
          "height": 286
        },
        "outputId": "50bc0926-5ac1-4ca0-b55d-d081b1545ad6"
      },
      "source": [
        "# Convert to grayscale for filtering\n",
        "gray = cv2.cvtColor(image, cv2.COLOR_RGB2GRAY)\n",
        "\n",
        "plt.imshow(gray, cmap='gray')\n",
        "\n"
      ],
      "execution_count": 19,
      "outputs": [
        {
          "output_type": "execute_result",
          "data": {
            "text/plain": [
              "<matplotlib.image.AxesImage at 0x7f661b2ecb00>"
            ]
          },
          "metadata": {
            "tags": []
          },
          "execution_count": 19
        },
        {
          "output_type": "display_data",
          "data": {
            "image/png": "[encoded data removed]",
            "text/plain": [
              "<Figure size 432x288 with 1 Axes>"
            ]
          },
          "metadata": {
            "tags": [],
            "needs_background": "light"
          }
        }
      ]
    },
    {
      "cell_type": "code",
      "metadata": {
        "id": "OPYRMAqAvQR8",
        "colab_type": "code",
        "colab": {
          "base_uri": "https://localhost:8080/",
          "height": 304
        },
        "outputId": "c31d8a86-3eec-4790-bcd7-0f0a5e04e8d9"
      },
      "source": [
        "# Create a custom kernel\n",
        "\n",
        "# 3x3 array for edge detection\n",
        "sobel_y = np.array([[ 0, 10, 0], \n",
        "                   [ 0, -8, 0], \n",
        "                   [ 0, -2, 0]])\n",
        "\n",
        "\n",
        "print(sobel_y.sum())\n",
        "## TODO: Create and apply a Sobel x operator\n",
        "\n",
        "\n",
        "# Filter the image using filter2D, which has inputs: (grayscale image, bit-depth, kernel)  \n",
        "filtered_image = cv2.filter2D(gray, -1, sobel_y)\n",
        "\n",
        "plt.imshow(filtered_image, cmap='gray')"
      ],
      "execution_count": 20,
      "outputs": [
        {
          "output_type": "stream",
          "text": [
            "0\n"
          ],
          "name": "stdout"
        },
        {
          "output_type": "execute_result",
          "data": {
            "text/plain": [
              "<matplotlib.image.AxesImage at 0x7f666401ad30>"
            ]
          },
          "metadata": {
            "tags": []
          },
          "execution_count": 20
        },
        {
          "output_type": "display_data",
          "data": {
            "image/png": "[encoded data removed]",
            "text/plain": [
              "<Figure size 432x288 with 1 Axes>"
            ]
          },
          "metadata": {
            "tags": [],
            "needs_background": "light"
          }
        }
      ]
    }
  ]
}