{
  "nbformat": 4,
  "nbformat_minor": 0,
  "metadata": {
    "colab": {
      "name": "Untitled3.ipynb",
      "provenance": [],
      "authorship_tag": "ABX9TyOmx312bsk1VBmZg2G0Ccz0",
      "include_colab_link": true
    },
    "kernelspec": {
      "name": "python3",
      "display_name": "Python 3"
    }
  },
  "cells": [
    {
      "cell_type": "markdown",
      "metadata": {
        "id": "view-in-github",
        "colab_type": "text"
      },
      "source": [
        "<a href=\"https://colab.research.google.com/github/gwillig/maschine-learning-notebooks-for-interns/blob/master/example.ipynb\" target=\"_parent\"><img src=\"https://colab.research.google.com/assets/colab-badge.svg\" alt=\"Open In Colab\"/></a>"
      ]
    },
    {
      "cell_type": "markdown",
      "metadata": {
        "id": "dQAX5CDUi-1W",
        "colab_type": "text"
      },
      "source": [
        "# Naive Bayes - Gaussian"
      ]
    },
    {
      "cell_type": "code",
      "metadata": {
        "id": "ZybI3F6yiLt9",
        "colab_type": "code",
        "colab": {
          "base_uri": "https://localhost:8080/",
          "height": 34
        },
        "outputId": "501e18e0-1d6d-4142-da64-baf0ea65f0a4"
      },
      "source": [
        "from sklearn.datasets import load_iris\n",
        "from sklearn.model_selection import train_test_split\n",
        "from sklearn.naive_bayes import GaussianNB\n",
        "import pandas as pd \n",
        "X, y = load_iris(return_X_y=True)\n",
        "X_train, X_test, y_train, y_test = train_test_split(X, y, test_size=0.5, random_state=0)\n",
        "gnb = GaussianNB()\n",
        "traing_model = gnb.fit(X_train, y_train)\n",
        "y_pred=gnb.fit(X_train, y_train).predict(X_test)\n",
        "print(\"Number of mislabeled points out of a total %d points : %d\"\n",
        "      % (X_test.shape[0], (y_test != y_pred).sum()))\n"
      ],
      "execution_count": null,
      "outputs": [
        {
          "output_type": "stream",
          "text": [
            "Number of mislabeled points out of a total 75 points : 4\n"
          ],
          "name": "stdout"
        }
      ]
    },
    {
      "cell_type": "code",
      "metadata": {
        "id": "-2YYnExDiVRA",
        "colab_type": "code",
        "colab": {
          "base_uri": "https://localhost:8080/",
          "height": 87
        },
        "outputId": "6f9f686f-1d30-41ab-fb93-ed604391e350"
      },
      "source": [
        "traing_model.predict(ca)"
      ],
      "execution_count": null,
      "outputs": [
        {
          "output_type": "execute_result",
          "data": {
            "text/plain": [
              "array([2, 1, 0, 2, 0, 2, 0, 1, 1, 1, 1, 1, 1, 1, 1, 0, 1, 1, 0, 0, 2, 1,\n",
              "       0, 0, 2, 0, 0, 1, 1, 0, 2, 1, 0, 2, 2, 1, 0, 1, 1, 1, 2, 0, 2, 0,\n",
              "       0, 1, 2, 2, 1, 2, 1, 2, 1, 1, 2, 1, 1, 2, 1, 2, 1, 0, 2, 1, 1, 1,\n",
              "       1, 2, 0, 0, 2, 1, 0, 0, 1])"
            ]
          },
          "metadata": {
            "tags": []
          },
          "execution_count": 5
        }
      ]
    },
    {
      "cell_type": "markdown",
      "metadata": {
        "id": "XSKNB2y8kKJX",
        "colab_type": "text"
      },
      "source": [
        "## Second example for NB\n",
        "\n",
        "\n",
        "\n"
      ]
    },
    {
      "cell_type": "code",
      "metadata": {
        "id": "GrXWzkzqkWCg",
        "colab_type": "code",
        "colab": {}
      },
      "source": [
        "from sklearn.naive_bayes import GaussianNB\n",
        "gnb = GaussianNB()\n",
        "import  pandas as pd\n",
        "data={\"Type\":[\"Banana\",\"Orange\",\"Other\"],\"Long\":[400,0,100],\"Not Long\":[100,300,100]\n",
        " ,\"Sweet\":[350,150,150],\"Not Sweet\":[150,150,50],\"Yellow\":[450,300,50],\"Not Yellow\":[50,0,150]}\n",
        "\t\t\t\t\t\n",
        "\n",
        "df = pd.DataFrame(data)\n",
        "\n",
        "train_feature_keys = list(df.keys())\n",
        "train_feature_keys.remove(\"Type\")\n",
        "train_label_y_key =\"Type\"\n",
        "x_train = df[train_feature_keys]\n",
        "y_train = df[train_label_y_key]\n",
        "traing_model = gnb.fit(x_train, y_train)\n",
        "\n",
        "train_feature_keys = list(df.keys())\n",
        "\n"
      ],
      "execution_count": 8,
      "outputs": []
    },
    {
      "cell_type": "markdown",
      "metadata": {
        "id": "7OIu1KNsjJu0",
        "colab_type": "text"
      },
      "source": [
        "# Normal distribution "
      ]
    },
    {
      "cell_type": "code",
      "metadata": {
        "id": "O5w4sf5vXBLR",
        "colab_type": "code",
        "colab": {
          "base_uri": "https://localhost:8080/",
          "height": 50
        },
        "outputId": "2061ec81-2545-4147-c7b5-43eac2bbe2c0"
      },
      "source": [
        "import numpy as np \n",
        "\n",
        "s1 = np.random.normal(40, 26, 10)\n",
        "s2 = np.random.normal(40, 26, 35)\n",
        "s3 = np.random.normal(40, 26, 62)\n",
        "\n",
        "import scipy.stats\n",
        "s1 =  scipy.stats.norm(  40, 26).pdf(10)*100\n",
        "s2 =  scipy.stats.norm(40, 26).pdf(35)*100\n",
        "s3 =  scipy.stats.norm(40, 26).pdf(62)*100\n",
        "s1 =  scipy.stats.norm.sf(10,40,26**0.5)*100\n",
        "s2 = scipy.stats.norm.sf(35,40,26**0.5)*100\n",
        "s3 =  scipy.stats.norm.sf(62,40,26**0.5)*100\n",
        "\n",
        "print( round(s1,0),round(s2,0),round(s3,0))\n",
        "\n",
        "s1 = - math.log(scipy.stats.norm.sf(10,27,314**0.5))*100\n",
        "s2 =-math.log( scipy.stats.norm.sf(35,27,314**0.5))*100\n",
        "s3 = -math.log( scipy.stats.norm.sf(62,27,314**0.5))*100\n",
        "print( round(s1,0),round(s2,0),round(s3,0))\n",
        "\n",
        "#equal to let's say 125, you'd use SF Survival Function \n"
      ],
      "execution_count": null,
      "outputs": [
        {
          "output_type": "stream",
          "text": [
            "100.0 84.0 0.0\n",
            "18.0 112.0 372.0\n"
          ],
          "name": "stdout"
        }
      ]
    },
    {
      "cell_type": "code",
      "metadata": {
        "id": "irPADMS_kKbq",
        "colab_type": "code",
        "colab": {
          "base_uri": "https://localhost:8080/",
          "height": 50
        },
        "outputId": "451804d5-65c5-4243-e2c0-dc402d797766"
      },
      "source": [
        "si=26**0.5\n",
        "mu=40\n",
        " \n",
        "x1=10\n",
        "x2=4\n",
        "x3=62\n",
        "s1 =  scipy.stats.norm(mu, si).pdf(x1)*100\n",
        "s2 =  scipy.stats.norm(mu, si).pdf(x2)*100\n",
        "s3 =  scipy.stats.norm(mu, si).pdf(x3)*100\n",
        "print( round(s1,2),round(s2,2),round(s3,2))\n",
        " \n",
        "si=314**0.5\n",
        " \n",
        "mu=27\n",
        " \n",
        "s1 =  scipy.stats.norm(mu, si).pdf(x1)*100\n",
        "s2 =  scipy.stats.norm(mu, si).pdf(x2)*100\n",
        "s3 =  scipy.stats.norm(mu, si).pdf(x3)*100\n",
        "print( round(s1,2),round(s2,2),round(s3,2))"
      ],
      "execution_count": null,
      "outputs": [
        {
          "output_type": "stream",
          "text": [
            "0.0 4.84 0.0\n",
            "1.42 2.03 0.32\n"
          ],
          "name": "stdout"
        }
      ]
    },
    {
      "cell_type": "code",
      "metadata": {
        "id": "t5GKRHBKmKzL",
        "colab_type": "code",
        "colab": {
          "base_uri": "https://localhost:8080/",
          "height": 394
        },
        "outputId": "a52ec3de-3713-4d2b-a276-a93597dc7a35"
      },
      "source": [
        " \n",
        "import matplotlib.pyplot as plt\n",
        "import numpy as np\n",
        "import scipy.stats as stats\n",
        "import math\n",
        "import seaborn as sns\n",
        "mu = 4\n",
        "variance = 4**0.5\n",
        "sigma = math.sqrt(variance)\n",
        "### Create the Probability density function\n",
        "x = np.linspace(mu - 5*sigma, mu + 5*sigma, 100)\n",
        "ax = sns.lineplot(x, stats.norm.pdf(x, mu, sigma))\n",
        "# ax.axvline(35,c=\"b\", linewidth = 3) #add a line to the graph\n",
        "part = np.arange(,40,1)\n",
        "ax.fill_between(part,stats.norm.pdf(part, mu, sigma),)\n",
        "plt.show()\n",
        " \n",
        "### Create the cumulative distribution function\n",
        "ax = sns.lineplot(x, stats.norm.cdf(x, mu, sigma))\n",
        " \n",
        "ax.fill_between(x, stats.norm.cdf(x, mu, sigma))"
      ],
      "execution_count": null,
      "outputs": [
        {
          "output_type": "stream",
          "text": [
            "/usr/local/lib/python3.6/dist-packages/statsmodels/tools/_testing.py:19: FutureWarning: pandas.util.testing is deprecated. Use the functions in the public API at pandas.testing instead.\n",
            "  import pandas.util.testing as tm\n"
          ],
          "name": "stderr"
        },
        {
          "output_type": "display_data",
          "data": {
            "image/png": "[encoded data removed]",
            "text/plain": [
              "<Figure size 432x288 with 1 Axes>"
            ]
          },
          "metadata": {
            "tags": [],
            "needs_background": "light"
          }
        },
        {
          "output_type": "execute_result",
          "data": {
            "text/plain": [
              "<matplotlib.collections.PolyCollection at 0x7f16b0e50da0>"
            ]
          },
          "metadata": {
            "tags": []
          },
          "execution_count": 1
        },
        {
          "output_type": "display_data",
          "data": {
            "image/png": "[encoded data removed]",
            "text/plain": [
              "<Figure size 432x288 with 1 Axes>"
            ]
          },
          "metadata": {
            "tags": [],
            "needs_background": "light"
          }
        }
      ]
    },
    {
      "cell_type": "code",
      "metadata": {
        "id": "dw7wIDzE2Lbi",
        "colab_type": "code",
        "colab": {
          "base_uri": "https://localhost:8080/",
          "height": 52
        },
        "outputId": "16ee48ff-5ac0-469b-ce57-8e6499299f9f"
      },
      "source": [
        "from scipy import stats\n",
        "mu=150\n",
        "si=(1000*0.15*0.85)**0.5\n",
        "x1=170\n",
        "x2=20\n",
        "pro = stats.norm.cdf(x1, loc=mu, scale=si) -stats.norm.cdf(x2, loc=mu, scale=si) \n",
        "print(pro*100)\n",
        "print(stats.norm.cdf(x1, loc=mu, scale=si))"
      ],
      "execution_count": null,
      "outputs": [
        {
          "output_type": "stream",
          "text": [
            "96.17387497624705\n",
            "0.9617387497624704\n"
          ],
          "name": "stdout"
        }
      ]
    },
    {
      "cell_type": "code",
      "metadata": {
        "id": "SNh-6utQyD7Z",
        "colab_type": "code",
        "colab": {
          "base_uri": "https://localhost:8080/",
          "height": 34
        },
        "outputId": "331762d2-9d55-41ce-9843-85e21e3f27cc"
      },
      "source": [
        "len(data[\"treatment\"])"
      ],
      "execution_count": null,
      "outputs": [
        {
          "output_type": "execute_result",
          "data": {
            "text/plain": [
              "4"
            ]
          },
          "metadata": {
            "tags": []
          },
          "execution_count": 12
        }
      ]
    },
    {
      "cell_type": "code",
      "metadata": {
        "id": "BSePOtpexi-Z",
        "colab_type": "code",
        "colab": {}
      },
      "source": [
        "data_raw={2012:3,2013:0,2014:2,2015:2,2016:0,2017:0,2018:1,2019:3}\n",
        "\n",
        "data ={\"year\":[2012,2013,2014,2015,2016,2017,2018,2019],\"treatment\":[3,0,2,2,0,0,1,3]}\n",
        "data_raw={2012:3,2013:0,2014:2,2015:2,2016:0,2017:0,2018:1,2019:3}\n",
        "\n",
        "data ={\"year\":[2018,2019],\"treatment\":[1,3]}"
      ],
      "execution_count": null,
      "outputs": []
    },
    {
      "cell_type": "code",
      "metadata": {
        "id": "CSHjFub7qpFQ",
        "colab_type": "code",
        "colab": {
          "base_uri": "https://localhost:8080/",
          "height": 423
        },
        "outputId": "18f2470c-53c2-45ae-bffb-91d44b4a4898"
      },
      "source": [
        "'#Zahnfüllungen von S'\n",
        "import pandas as pd\n",
        "import numpy as np\n",
        "import seaborn as sns\n",
        "from scipy import stats\n",
        "import matplotlib.pyplot as plt\n",
        "\n",
        "df = pd.DataFrame(data)\n",
        "df.describe()\n",
        "mu = df.describe().loc[\"mean\",\"treatment\"]\n",
        "sigma = df.describe().loc[\"std\",\"treatment\"]\n",
        "### Create the Probability density function\n",
        "x = np.linspace(mu - 5*sigma, mu + 5*sigma, 20)\n",
        "ax = sns.lineplot(x, stats.norm.pdf(x, mu, sigma))\n",
        "# ax.axvline(35,c=\"b\", linewidth = 3) #add a line to the graph\n",
        "part = np.arange(35,40,1)\n",
        "ax.fill_between(part,stats.norm.pdf(part, mu, sigma),)\n",
        "plt.show()\n",
        "print(df.describe())"
      ],
      "execution_count": null,
      "outputs": [
        {
          "output_type": "display_data",
          "data": {
            "image/png": "[encoded data removed]",
            "text/plain": [
              "<Figure size 432x288 with 1 Axes>"
            ]
          },
          "metadata": {
            "tags": [],
            "needs_background": "light"
          }
        },
        {
          "output_type": "stream",
          "text": [
            "              year  treatment\n",
            "count     2.000000   2.000000\n",
            "mean   2018.500000   2.000000\n",
            "std       0.707107   1.414214\n",
            "min    2018.000000   1.000000\n",
            "25%    2018.250000   1.500000\n",
            "50%    2018.500000   2.000000\n",
            "75%    2018.750000   2.500000\n",
            "max    2019.000000   3.000000\n"
          ],
          "name": "stdout"
        }
      ]
    },
    {
      "cell_type": "code",
      "metadata": {
        "id": "pm4SR43-i61-",
        "colab_type": "code",
        "colab": {
          "base_uri": "https://localhost:8080/",
          "height": 142
        },
        "outputId": "1ddc16f1-1922-42b2-b241-c099b5c70d0b"
      },
      "source": [
        "from sklearn.naive_bayes import GaussianNB\n",
        "gnb = GaussianNB()\n",
        "import  pandas as pd\n",
        "data={\"Type\":[\"Banana\",\"Orange\",\"Other\"],\"Long\":[400,0,100],\"Not Long\":[100,300,100]\n",
        " ,\"Sweet\":[350,150,150],\"Not Sweet\":[150,150,50],\"Yellow\":[450,300,50],\"Not Yellow\":[50,0,150]}\n",
        "\t\t\t\t\t\n",
        "\n",
        "df = pd.DataFrame(data)\n",
        "\n",
        "train_feature_keys = list(df.keys())\n",
        "train_feature_keys.remove(\"Type\")\n",
        "train_label_y_key =\"Type\"\n",
        "x_train = df[train_feature_keys]\n",
        "y_train = df[train_label_y_key]\n",
        "traing_model = gnb.fit(x_train, y_train)\n",
        "\n",
        "train_feature_keys = list(df.keys())\n",
        "\n"
      ],
      "execution_count": 7,
      "outputs": [
        {
          "output_type": "execute_result",
          "data": {
            "text/html": [
              "<div>\n",
              "<style scoped>\n",
              "    .dataframe tbody tr th:only-of-type {\n",
              "        vertical-align: middle;\n",
              "    }\n",
              "\n",
              "    .dataframe tbody tr th {\n",
              "        vertical-align: top;\n",
              "    }\n",
              "\n",
              "    .dataframe thead th {\n",
              "        text-align: right;\n",
              "    }\n",
              "</style>\n",
              "<table border=\"1\" class=\"dataframe\">\n",
              "  <thead>\n",
              "    <tr style=\"text-align: right;\">\n",
              "      <th></th>\n",
              "      <th>Type</th>\n",
              "      <th>Long</th>\n",
              "      <th>Not Long</th>\n",
              "      <th>Sweet</th>\n",
              "      <th>Not Sweet</th>\n",
              "      <th>Yellow</th>\n",
              "      <th>Not Yellow</th>\n",
              "    </tr>\n",
              "  </thead>\n",
              "  <tbody>\n",
              "    <tr>\n",
              "      <th>0</th>\n",
              "      <td>Banana</td>\n",
              "      <td>400</td>\n",
              "      <td>100</td>\n",
              "      <td>350</td>\n",
              "      <td>150</td>\n",
              "      <td>450</td>\n",
              "      <td>50</td>\n",
              "    </tr>\n",
              "    <tr>\n",
              "      <th>1</th>\n",
              "      <td>Orange</td>\n",
              "      <td>0</td>\n",
              "      <td>300</td>\n",
              "      <td>150</td>\n",
              "      <td>150</td>\n",
              "      <td>300</td>\n",
              "      <td>0</td>\n",
              "    </tr>\n",
              "    <tr>\n",
              "      <th>2</th>\n",
              "      <td>Other</td>\n",
              "      <td>100</td>\n",
              "      <td>100</td>\n",
              "      <td>150</td>\n",
              "      <td>50</td>\n",
              "      <td>50</td>\n",
              "      <td>150</td>\n",
              "    </tr>\n",
              "  </tbody>\n",
              "</table>\n",
              "</div>"
            ],
            "text/plain": [
              "     Type  Long  Not Long  Sweet  Not Sweet  Yellow  Not Yellow\n",
              "0  Banana   400       100    350        150     450          50\n",
              "1  Orange     0       300    150        150     300           0\n",
              "2   Other   100       100    150         50      50         150"
            ]
          },
          "metadata": {
            "tags": []
          },
          "execution_count": 7
        }
      ]
    },
    {
      "cell_type": "markdown",
      "metadata": {
        "id": "mKZnBIjUCIJU",
        "colab_type": "text"
      },
      "source": [
        "# K-Mean example"
      ]
    },
    {
      "cell_type": "markdown",
      "metadata": {
        "id": "IeWTqroRir8t",
        "colab_type": "text"
      },
      "source": [
        "## K-Mean with data example"
      ]
    },
    {
      "cell_type": "code",
      "metadata": {
        "id": "H-CiLThuCL0j",
        "colab_type": "code",
        "colab": {
          "base_uri": "https://localhost:8080/",
          "height": 0
        },
        "outputId": "416157a5-a7d3-429f-d69b-265704735afd"
      },
      "source": [
        "from sklearn.cluster import KMeans\n",
        "import numpy as np\n",
        "import pandas as pd \n",
        "from IPython.display import display\n",
        "import seaborn as sns\n",
        "'#1.Step: Define the data'\n",
        "X = np.array([[1,4],\n",
        "              [1.50,5],\n",
        "              [1.7,2],\n",
        "              [1.3,3],\n",
        "              [3,6],\n",
        "              [3.5,7],\n",
        "              [3.7,8],\n",
        "              [3.3,5]\n",
        "              ])\n",
        "\n",
        "'#2.Step: Convert to df and display the data'\n",
        "df = pd.DataFrame(data=X,columns=[\"x\",\"y\"])\n",
        "# display(df)\n",
        "'#3.Step: Create model and fit it to the data'\n",
        "kmeans = KMeans(n_clusters=2, random_state=1,).fit(X)\n",
        "'#4.Step: Predict label for each data point'\n",
        "df[\"y_predict\"] = kmeans.labels_\n",
        "'#5.1.Step: Display the result of the prediction in a scatter plot'\n",
        "plt.grid(True)\n",
        "\n",
        "plt.scatter(x=df[\"x\"],y=df[\"y\"],c=df[\"y_predict\"], cmap='viridis')\n",
        "'#5.2.Step: Add the cluster center to the scatter plot'\n",
        "centers = kmeans.cluster_centers_\n",
        "color = np.arange(len(kmeans.cluster_centers_))\n",
        "\n",
        "ax = plt.scatter(centers[:, 0], centers[:, 1], s=200, c=color, alpha=0.7,cmap='viridis')\n",
        "\n",
        "for center in kmeans.cluster_centers_:\n",
        "  plt.text(center[0],center[1],f'{center[0]} | {center[1]}')"
      ],
      "execution_count": 84,
      "outputs": [
        {
          "output_type": "display_data",
          "data": {
            "image/png": "[encoded data removed]",
            "text/plain": [
              "<Figure size 432x288 with 1 Axes>"
            ]
          },
          "metadata": {
            "tags": [],
            "needs_background": "light"
          }
        }
      ]
    },
    {
      "cell_type": "markdown",
      "metadata": {
        "id": "3v-178IAi0WU",
        "colab_type": "text"
      },
      "source": [
        "## 2. K-Mean with generated data"
      ]
    },
    {
      "cell_type": "code",
      "metadata": {
        "id": "grf6CF_cGz37",
        "colab_type": "code",
        "colab": {
          "base_uri": "https://localhost:8080/",
          "height": 0
        },
        "outputId": "15a1bbd9-5943-4ea8-c31c-13cbc7a2a8c8"
      },
      "source": [
        "from sklearn.datasets.samples_generator import make_blobs\n",
        "import matplotlib.pyplot as plt\n",
        "from sklearn.cluster import KMeans\n",
        "from sklearn.metrics import accuracy_score\n",
        "import pandas as pd\n",
        "import numpy as np\n",
        "'#1.Step: Create data with sklearn'\n",
        "x, y_true = make_blobs(n_samples=300, centers=3,\n",
        "                       cluster_std=0.3, random_state=0)\n",
        "'#2.Step: Convert to df'\n",
        "df= pd.DataFrame({\"x1\":list(x[:,0]),\"x2\":list(x[:,1]),\"y_true\":list(y_true)})\n",
        "'#3.Step: Display the data'\n",
        "plt.title(\"Real clusters\")\n",
        "plt.scatter(df[\"x1\"],df[\"x2\"],c=df[\"y_true\"], s=50, cmap='viridis');\n",
        "plt.show()\n",
        "'#4.Step: Create a model'\n",
        "'#4.1.Step: Create on init. values'\n",
        "init_own = np.array([[-1.5,3],[1,4],[2,1]])\n",
        "kmeans = KMeans(n_clusters=3,init=init_own,n_init=10).fit(df[[\"x1\",\"x2\"]])\n",
        "df[\"y_pred\"] = kmeans.labels_\n",
        "plt.scatter(df[\"x1\"],df[\"x2\"],c=df[\"y_pred\"], s=50, cmap='winter');\n",
        "plt.title(\"Predicted clusters\") \n",
        "plt.show()\n"
      ],
      "execution_count": 5,
      "outputs": [
        {
          "output_type": "display_data",
          "data": {
            "image/png": "[encoded data removed]",
            "text/plain": [
              "<Figure size 432x288 with 1 Axes>"
            ]
          },
          "metadata": {
            "tags": [],
            "needs_background": "light"
          }
        },
        {
          "output_type": "stream",
          "text": [
            "/usr/local/lib/python3.6/dist-packages/ipykernel_launcher.py:19: RuntimeWarning: Explicit initial center position passed: performing only one init in k-means instead of n_init=10\n"
          ],
          "name": "stderr"
        },
        {
          "output_type": "display_data",
          "data": {
            "image/png": "[encoded data removed]",
            "text/plain": [
              "<Figure size 432x288 with 1 Axes>"
            ]
          },
          "metadata": {
            "tags": [],
            "needs_background": "light"
          }
        }
      ]
    },
    {
      "cell_type": "code",
      "metadata": {
        "id": "s63eSNrzPbia",
        "colab_type": "code",
        "colab": {}
      },
      "source": [
        ""
      ],
      "execution_count": null,
      "outputs": []
    }
  ]
}